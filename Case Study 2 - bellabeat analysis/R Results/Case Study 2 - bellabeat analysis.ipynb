{
 "cells": [
  {
   "cell_type": "markdown",
   "id": "a71a6545",
   "metadata": {},
   "source": [
    "# <span style =\"color: #6B8E23\">Case Study 2: Bellabeat Analysis</span>\n",
    "\n",
    "author: Matt Johnson\n",
    "\n",
    "date: 2023-07-14\n",
    "\n",
    "email: matt.johnson0304@gmail.com\n",
    "\n",
    "GitHub: https://github.com/MjxSjx\n",
    "\n",
    "linkedin: https://www.linkedin.com/in/matt-johnson0304/"
   ]
  },
  {
   "cell_type": "markdown",
   "id": "a7048a7d",
   "metadata": {},
   "source": [
    "## <span style=\"color:#6B8E23\"> Introduction: </span>\n",
    "\n",
    "Welcome to my Bellabeat analysis case study. Here, we will tackle the real-world challenges faced by Bellabeat, a smart device company based in San Francisco. Throughout this study, we will follow the data analysis process to answer key business questions and develop actionable insights.\n",
    "\n",
    "The company's mission:\n",
    "Become a larger player in the global smart device market.\n",
    "\n",
    "Products:\n",
    "\n",
    "* App: track activity, sleep, stress, menstrual cycle, and mindfulness habits.\n",
    "* Wearable Device: connects to the app to track activity, sleep, and stress.\n",
    "* Watch: connects to the app to track activity, sleep, and stress.\n",
    "* Water Bottle: connects to the app to track daily water intake.\n",
    "* Subscription membership: personalized guidance on nutrition, activity, sleep, health, beauty, and mindfulness based on their lifestyle and goals."
   ]
  },
  {
   "cell_type": "markdown",
   "id": "d3727355",
   "metadata": {},
   "source": [
    "### <span style=\"color:#6B8E23\"> Deliverables: </span>\n",
    "\n",
    "My task in the assignment is:\n",
    "\n",
    "* Find out user usage for one device to gain insights on how people are using that device. Then take that information and make a high-level recommendation on how the trends can inform Bellabeat's marketing strategy.\n"
   ]
  },
  {
   "cell_type": "markdown",
   "id": "ae4264c3",
   "metadata": {},
   "source": [
    "### <span style=\"color:#6B8E23\"> Problem: </span>\n",
    "\n",
    "I have been asked to focus on one of Bellabeat’s products and analyze smart device data to gain insight into how consumers are using their smart devices.\n",
    "The insights I discover will then help guide the marketing strategy for the company.\n",
    "You will present your analysis to the Bellabeat executive team (Sando Mur) along with your high-level recommendations for Bellabeat’s marketing strategy."
   ]
  },
  {
   "cell_type": "markdown",
   "id": "804766d6",
   "metadata": {},
   "source": [
    "## <span style=\"color:#6B8E23\"> Ask - Step 1: Ask the right questions </span>\n",
    "\n",
    "Analyze other companies smart device usage data to gain insight into how consumers use non-Bellabeat smart devices. Select one Bellabeat product to apply these insights to in your presentation.\n",
    "\n",
    "These questions will guide your analysis:\n",
    "\n",
    "1. What are some trends in smart device usage?\n",
    "2. How could these trends apply to Bellabeat customers?\n",
    "3. How could these trends help influence Bellabeat's marketing strategy?\n",
    "\n",
    "\n",
    "\n",
    "I will produce a report with the following deliverables:\n",
    "\n",
    "1. A clear summary of the business task\n",
    "2. A description of all data sources used: \n",
    "3. Documentation of any cleaning or manipulation of data\n",
    "4. A summary of your analysis\n",
    "5. Supporting visualizations and key findings\n",
    "6. Your top high-level content recommendations based on your analysis"
   ]
  },
  {
   "cell_type": "markdown",
   "id": "d536dea3",
   "metadata": {},
   "source": [
    "## <span style=\"color:#6B8E23\"> Prepare - Step 2: Upload, inspect and clean the data </span>"
   ]
  },
  {
   "cell_type": "markdown",
   "id": "06ce22af",
   "metadata": {},
   "source": [
    "### <span style=\"color:#6B8E23\"> Uploading </span>\n",
    "\n",
    "This Kaggle data set contains personal fitness trackers from thirty-three Fitbit users.\n",
    "Thirty-three eligible Fitbit users consented to the submission of personal tracker data, including minute-level output for physical activity, heart rate, and sleep monitoring.\n",
    "It includes information about daily activity, steps, and heart rate that can be used to explore users’ habits [Source](https://www.kaggle.com/arashnic)\n",
    "\n",
    "\n",
    "* Since our goal is to essentially give broad strokes data about the Bellabeats users. We want to mainly focus on daily data and specifically the dailyActivity_merged file as our nexus. dailyActivity_merged has all the \"daily\" sheet titled columns already merged into it. Also, I will be adding values: day_of_week."
   ]
  },
  {
   "cell_type": "code",
   "execution_count": 37,
   "id": "e56f4973",
   "metadata": {
    "scrolled": true
   },
   "outputs": [
    {
     "name": "stderr",
     "output_type": "stream",
     "text": [
      "Warning message:\n",
      "\"package 'janitor' is in use and will not be installed\"\n",
      "Warning message:\n",
      "\"package 'skimr' is in use and will not be installed\"\n",
      "Warning message:\n",
      "\"package 'tidyverse' is in use and will not be installed\"\n"
     ]
    }
   ],
   "source": [
    "install.packages(\"janitor\")\n",
    "install.packages(\"skimr\")\n",
    "install.packages(\"tidyverse\")"
   ]
  },
  {
   "cell_type": "code",
   "execution_count": 38,
   "id": "d72ad8ac",
   "metadata": {
    "scrolled": true
   },
   "outputs": [],
   "source": [
    "library(janitor)\n",
    "library(skimr);\n",
    "library(tidyverse);"
   ]
  },
  {
   "cell_type": "code",
   "execution_count": 39,
   "id": "a1e4748a",
   "metadata": {
    "scrolled": false
   },
   "outputs": [
    {
     "data": {
      "text/html": [
       "'D:/Merit/Merit Projects/Case Study 2'"
      ],
      "text/latex": [
       "'D:/Merit/Merit Projects/Case Study 2'"
      ],
      "text/markdown": [
       "'D:/Merit/Merit Projects/Case Study 2'"
      ],
      "text/plain": [
       "[1] \"D:/Merit/Merit Projects/Case Study 2\""
      ]
     },
     "metadata": {},
     "output_type": "display_data"
    }
   ],
   "source": [
    "setwd(\"D:/Merit/Merit Projects/Case Study 2\")\n",
    "getwd() #check you set your directory correctly;"
   ]
  },
  {
   "cell_type": "code",
   "execution_count": 40,
   "id": "12d53327",
   "metadata": {
    "scrolled": false
   },
   "outputs": [
    {
     "name": "stderr",
     "output_type": "stream",
     "text": [
      "\u001b[1mRows: \u001b[22m\u001b[34m940\u001b[39m \u001b[1mColumns: \u001b[22m\u001b[34m15\u001b[39m\n",
      "\u001b[36m──\u001b[39m \u001b[1mColumn specification\u001b[22m \u001b[36m────────────────────────────────────────────────────────────────────────────────────────────────\u001b[39m\n",
      "\u001b[1mDelimiter:\u001b[22m \",\"\n",
      "\u001b[31mchr\u001b[39m  (1): ActivityDate\n",
      "\u001b[32mdbl\u001b[39m (14): Id, TotalSteps, TotalDistance, TrackerDistance, LoggedActivitiesDi...\n",
      "\n",
      "\u001b[36mℹ\u001b[39m Use `spec()` to retrieve the full column specification for this data.\n",
      "\u001b[36mℹ\u001b[39m Specify the column types or set `show_col_types = FALSE` to quiet this message.\n",
      "\u001b[1mRows: \u001b[22m\u001b[34m413\u001b[39m \u001b[1mColumns: \u001b[22m\u001b[34m5\u001b[39m\n",
      "\u001b[36m──\u001b[39m \u001b[1mColumn specification\u001b[22m \u001b[36m────────────────────────────────────────────────────────────────────────────────────────────────\u001b[39m\n",
      "\u001b[1mDelimiter:\u001b[22m \",\"\n",
      "\u001b[31mchr\u001b[39m (1): SleepDay\n",
      "\u001b[32mdbl\u001b[39m (4): Id, TotalSleepRecords, TotalMinutesAsleep, TotalTimeInBed\n",
      "\n",
      "\u001b[36mℹ\u001b[39m Use `spec()` to retrieve the full column specification for this data.\n",
      "\u001b[36mℹ\u001b[39m Specify the column types or set `show_col_types = FALSE` to quiet this message.\n",
      "\u001b[1mRows: \u001b[22m\u001b[34m2483658\u001b[39m \u001b[1mColumns: \u001b[22m\u001b[34m3\u001b[39m\n",
      "\u001b[36m──\u001b[39m \u001b[1mColumn specification\u001b[22m \u001b[36m────────────────────────────────────────────────────────────────────────────────────────────────\u001b[39m\n",
      "\u001b[1mDelimiter:\u001b[22m \",\"\n",
      "\u001b[31mchr\u001b[39m (1): Time\n",
      "\u001b[32mdbl\u001b[39m (2): Id, Value\n",
      "\n",
      "\u001b[36mℹ\u001b[39m Use `spec()` to retrieve the full column specification for this data.\n",
      "\u001b[36mℹ\u001b[39m Specify the column types or set `show_col_types = FALSE` to quiet this message.\n",
      "\u001b[1mRows: \u001b[22m\u001b[34m67\u001b[39m \u001b[1mColumns: \u001b[22m\u001b[34m8\u001b[39m\n",
      "\u001b[36m──\u001b[39m \u001b[1mColumn specification\u001b[22m \u001b[36m────────────────────────────────────────────────────────────────────────────────────────────────\u001b[39m\n",
      "\u001b[1mDelimiter:\u001b[22m \",\"\n",
      "\u001b[31mchr\u001b[39m (1): Date\n",
      "\u001b[32mdbl\u001b[39m (6): Id, WeightKg, WeightPounds, Fat, BMI, LogId\n",
      "\u001b[33mlgl\u001b[39m (1): IsManualReport\n",
      "\n",
      "\u001b[36mℹ\u001b[39m Use `spec()` to retrieve the full column specification for this data.\n",
      "\u001b[36mℹ\u001b[39m Specify the column types or set `show_col_types = FALSE` to quiet this message.\n"
     ]
    }
   ],
   "source": [
    "daily_activity <- read_csv(\"Fitabase Data 4.12.16-5.12.16/dailyActivity_merged.csv\")\n",
    "daily_sleep <- read_csv(\"Fitabase Data 4.12.16-5.12.16/sleepDay_merged.csv\")\n",
    "heartrate <- read_csv(\"Fitabase Data 4.12.16-5.12.16/heartrate_seconds_merged.csv\")\n",
    "weight_log <- read_csv(\"Fitabase Data 4.12.16-5.12.16/weightLogInfo_merged.csv\")\n"
   ]
  },
  {
   "cell_type": "markdown",
   "id": "17addae0",
   "metadata": {},
   "source": [
    "### <span style=\"color:#6B8E23\"> Inspecting </span>\n",
    "\n",
    "The first thing we must do is understand the data. If we know what each sheet contains and what each column represents, we can start forming a plan of action. Our initial goal is to find connections between the sheets; think of keys as in primary keys and foreign keys. This can take time, but it is worth it. Once you have grasped what information the data is presenting, only then can you start to address your stakeholder questions.\n",
    "\n",
    "This data goes by:\n",
    "\n",
    "* Daily Activity\n",
    "\n",
    "* Calories: daily, hourly, and minute (narrow and wide).\n",
    "\n",
    "* Intensities: daily, hourly, minute (narrow and wide).\n",
    "\n",
    "* Steps: daily, hourly, minute (narrow and wide).\n",
    "\n",
    "* Heart rate: seconds\n",
    "\n",
    "* Sleep: daily, minute\n",
    "\n",
    "* Weight log info\n",
    "\n",
    "* METs: minute(narrow) what are METs? ANSWER: Metabolic Equivalent of Task: a unit of measurement that represents the energy expenditure of an activity relative to the resting metabolic rate METs are used to quantify the intensity of physical activities.\n",
    "\n",
    "    * minute narrow: a lot of rows, not many columns. My minuteIntentisitesNarrow csv has over 1 million rows BUT only 3 columns.\n",
    "\n",
    "    * minute wide: a lot of columns, not many rows. My minuteIntentisitesWide csv has 21 thousand rows but only 61 columns."
   ]
  },
  {
   "cell_type": "code",
   "execution_count": 41,
   "id": "95625870",
   "metadata": {
    "scrolled": true
   },
   "outputs": [
    {
     "data": {
      "text/html": [
       "<table class=\"dataframe\">\n",
       "<caption>A tibble: 6 × 15</caption>\n",
       "<thead>\n",
       "\t<tr><th scope=col>Id</th><th scope=col>ActivityDate</th><th scope=col>TotalSteps</th><th scope=col>TotalDistance</th><th scope=col>TrackerDistance</th><th scope=col>LoggedActivitiesDistance</th><th scope=col>VeryActiveDistance</th><th scope=col>ModeratelyActiveDistance</th><th scope=col>LightActiveDistance</th><th scope=col>SedentaryActiveDistance</th><th scope=col>VeryActiveMinutes</th><th scope=col>FairlyActiveMinutes</th><th scope=col>LightlyActiveMinutes</th><th scope=col>SedentaryMinutes</th><th scope=col>Calories</th></tr>\n",
       "\t<tr><th scope=col>&lt;dbl&gt;</th><th scope=col>&lt;chr&gt;</th><th scope=col>&lt;dbl&gt;</th><th scope=col>&lt;dbl&gt;</th><th scope=col>&lt;dbl&gt;</th><th scope=col>&lt;dbl&gt;</th><th scope=col>&lt;dbl&gt;</th><th scope=col>&lt;dbl&gt;</th><th scope=col>&lt;dbl&gt;</th><th scope=col>&lt;dbl&gt;</th><th scope=col>&lt;dbl&gt;</th><th scope=col>&lt;dbl&gt;</th><th scope=col>&lt;dbl&gt;</th><th scope=col>&lt;dbl&gt;</th><th scope=col>&lt;dbl&gt;</th></tr>\n",
       "</thead>\n",
       "<tbody>\n",
       "\t<tr><td>1503960366</td><td>4/12/2016</td><td>13162</td><td>8.50</td><td>8.50</td><td>0</td><td>1.88</td><td>0.55</td><td>6.06</td><td>0</td><td>25</td><td>13</td><td>328</td><td> 728</td><td>1985</td></tr>\n",
       "\t<tr><td>1503960366</td><td>4/13/2016</td><td>10735</td><td>6.97</td><td>6.97</td><td>0</td><td>1.57</td><td>0.69</td><td>4.71</td><td>0</td><td>21</td><td>19</td><td>217</td><td> 776</td><td>1797</td></tr>\n",
       "\t<tr><td>1503960366</td><td>4/14/2016</td><td>10460</td><td>6.74</td><td>6.74</td><td>0</td><td>2.44</td><td>0.40</td><td>3.91</td><td>0</td><td>30</td><td>11</td><td>181</td><td>1218</td><td>1776</td></tr>\n",
       "\t<tr><td>1503960366</td><td>4/15/2016</td><td> 9762</td><td>6.28</td><td>6.28</td><td>0</td><td>2.14</td><td>1.26</td><td>2.83</td><td>0</td><td>29</td><td>34</td><td>209</td><td> 726</td><td>1745</td></tr>\n",
       "\t<tr><td>1503960366</td><td>4/16/2016</td><td>12669</td><td>8.16</td><td>8.16</td><td>0</td><td>2.71</td><td>0.41</td><td>5.04</td><td>0</td><td>36</td><td>10</td><td>221</td><td> 773</td><td>1863</td></tr>\n",
       "\t<tr><td>1503960366</td><td>4/17/2016</td><td> 9705</td><td>6.48</td><td>6.48</td><td>0</td><td>3.19</td><td>0.78</td><td>2.51</td><td>0</td><td>38</td><td>20</td><td>164</td><td> 539</td><td>1728</td></tr>\n",
       "</tbody>\n",
       "</table>\n"
      ],
      "text/latex": [
       "A tibble: 6 × 15\n",
       "\\begin{tabular}{lllllllllllllll}\n",
       " Id & ActivityDate & TotalSteps & TotalDistance & TrackerDistance & LoggedActivitiesDistance & VeryActiveDistance & ModeratelyActiveDistance & LightActiveDistance & SedentaryActiveDistance & VeryActiveMinutes & FairlyActiveMinutes & LightlyActiveMinutes & SedentaryMinutes & Calories\\\\\n",
       " <dbl> & <chr> & <dbl> & <dbl> & <dbl> & <dbl> & <dbl> & <dbl> & <dbl> & <dbl> & <dbl> & <dbl> & <dbl> & <dbl> & <dbl>\\\\\n",
       "\\hline\n",
       "\t 1503960366 & 4/12/2016 & 13162 & 8.50 & 8.50 & 0 & 1.88 & 0.55 & 6.06 & 0 & 25 & 13 & 328 &  728 & 1985\\\\\n",
       "\t 1503960366 & 4/13/2016 & 10735 & 6.97 & 6.97 & 0 & 1.57 & 0.69 & 4.71 & 0 & 21 & 19 & 217 &  776 & 1797\\\\\n",
       "\t 1503960366 & 4/14/2016 & 10460 & 6.74 & 6.74 & 0 & 2.44 & 0.40 & 3.91 & 0 & 30 & 11 & 181 & 1218 & 1776\\\\\n",
       "\t 1503960366 & 4/15/2016 &  9762 & 6.28 & 6.28 & 0 & 2.14 & 1.26 & 2.83 & 0 & 29 & 34 & 209 &  726 & 1745\\\\\n",
       "\t 1503960366 & 4/16/2016 & 12669 & 8.16 & 8.16 & 0 & 2.71 & 0.41 & 5.04 & 0 & 36 & 10 & 221 &  773 & 1863\\\\\n",
       "\t 1503960366 & 4/17/2016 &  9705 & 6.48 & 6.48 & 0 & 3.19 & 0.78 & 2.51 & 0 & 38 & 20 & 164 &  539 & 1728\\\\\n",
       "\\end{tabular}\n"
      ],
      "text/markdown": [
       "\n",
       "A tibble: 6 × 15\n",
       "\n",
       "| Id &lt;dbl&gt; | ActivityDate &lt;chr&gt; | TotalSteps &lt;dbl&gt; | TotalDistance &lt;dbl&gt; | TrackerDistance &lt;dbl&gt; | LoggedActivitiesDistance &lt;dbl&gt; | VeryActiveDistance &lt;dbl&gt; | ModeratelyActiveDistance &lt;dbl&gt; | LightActiveDistance &lt;dbl&gt; | SedentaryActiveDistance &lt;dbl&gt; | VeryActiveMinutes &lt;dbl&gt; | FairlyActiveMinutes &lt;dbl&gt; | LightlyActiveMinutes &lt;dbl&gt; | SedentaryMinutes &lt;dbl&gt; | Calories &lt;dbl&gt; |\n",
       "|---|---|---|---|---|---|---|---|---|---|---|---|---|---|---|\n",
       "| 1503960366 | 4/12/2016 | 13162 | 8.50 | 8.50 | 0 | 1.88 | 0.55 | 6.06 | 0 | 25 | 13 | 328 |  728 | 1985 |\n",
       "| 1503960366 | 4/13/2016 | 10735 | 6.97 | 6.97 | 0 | 1.57 | 0.69 | 4.71 | 0 | 21 | 19 | 217 |  776 | 1797 |\n",
       "| 1503960366 | 4/14/2016 | 10460 | 6.74 | 6.74 | 0 | 2.44 | 0.40 | 3.91 | 0 | 30 | 11 | 181 | 1218 | 1776 |\n",
       "| 1503960366 | 4/15/2016 |  9762 | 6.28 | 6.28 | 0 | 2.14 | 1.26 | 2.83 | 0 | 29 | 34 | 209 |  726 | 1745 |\n",
       "| 1503960366 | 4/16/2016 | 12669 | 8.16 | 8.16 | 0 | 2.71 | 0.41 | 5.04 | 0 | 36 | 10 | 221 |  773 | 1863 |\n",
       "| 1503960366 | 4/17/2016 |  9705 | 6.48 | 6.48 | 0 | 3.19 | 0.78 | 2.51 | 0 | 38 | 20 | 164 |  539 | 1728 |\n",
       "\n"
      ],
      "text/plain": [
       "  Id         ActivityDate TotalSteps TotalDistance TrackerDistance\n",
       "1 1503960366 4/12/2016    13162      8.50          8.50           \n",
       "2 1503960366 4/13/2016    10735      6.97          6.97           \n",
       "3 1503960366 4/14/2016    10460      6.74          6.74           \n",
       "4 1503960366 4/15/2016     9762      6.28          6.28           \n",
       "5 1503960366 4/16/2016    12669      8.16          8.16           \n",
       "6 1503960366 4/17/2016     9705      6.48          6.48           \n",
       "  LoggedActivitiesDistance VeryActiveDistance ModeratelyActiveDistance\n",
       "1 0                        1.88               0.55                    \n",
       "2 0                        1.57               0.69                    \n",
       "3 0                        2.44               0.40                    \n",
       "4 0                        2.14               1.26                    \n",
       "5 0                        2.71               0.41                    \n",
       "6 0                        3.19               0.78                    \n",
       "  LightActiveDistance SedentaryActiveDistance VeryActiveMinutes\n",
       "1 6.06                0                       25               \n",
       "2 4.71                0                       21               \n",
       "3 3.91                0                       30               \n",
       "4 2.83                0                       29               \n",
       "5 5.04                0                       36               \n",
       "6 2.51                0                       38               \n",
       "  FairlyActiveMinutes LightlyActiveMinutes SedentaryMinutes Calories\n",
       "1 13                  328                   728             1985    \n",
       "2 19                  217                   776             1797    \n",
       "3 11                  181                  1218             1776    \n",
       "4 34                  209                   726             1745    \n",
       "5 10                  221                   773             1863    \n",
       "6 20                  164                   539             1728    "
      ]
     },
     "metadata": {},
     "output_type": "display_data"
    }
   ],
   "source": [
    "head(daily_activity)"
   ]
  },
  {
   "cell_type": "code",
   "execution_count": 42,
   "id": "ea657443",
   "metadata": {},
   "outputs": [
    {
     "data": {
      "text/html": [
       "<table class=\"dataframe\">\n",
       "<caption>A tibble: 6 × 5</caption>\n",
       "<thead>\n",
       "\t<tr><th scope=col>Id</th><th scope=col>SleepDay</th><th scope=col>TotalSleepRecords</th><th scope=col>TotalMinutesAsleep</th><th scope=col>TotalTimeInBed</th></tr>\n",
       "\t<tr><th scope=col>&lt;dbl&gt;</th><th scope=col>&lt;chr&gt;</th><th scope=col>&lt;dbl&gt;</th><th scope=col>&lt;dbl&gt;</th><th scope=col>&lt;dbl&gt;</th></tr>\n",
       "</thead>\n",
       "<tbody>\n",
       "\t<tr><td>1503960366</td><td>4/12/2016 12:00:00 AM</td><td>1</td><td>327</td><td>346</td></tr>\n",
       "\t<tr><td>1503960366</td><td>4/13/2016 12:00:00 AM</td><td>2</td><td>384</td><td>407</td></tr>\n",
       "\t<tr><td>1503960366</td><td>4/15/2016 12:00:00 AM</td><td>1</td><td>412</td><td>442</td></tr>\n",
       "\t<tr><td>1503960366</td><td>4/16/2016 12:00:00 AM</td><td>2</td><td>340</td><td>367</td></tr>\n",
       "\t<tr><td>1503960366</td><td>4/17/2016 12:00:00 AM</td><td>1</td><td>700</td><td>712</td></tr>\n",
       "\t<tr><td>1503960366</td><td>4/19/2016 12:00:00 AM</td><td>1</td><td>304</td><td>320</td></tr>\n",
       "</tbody>\n",
       "</table>\n"
      ],
      "text/latex": [
       "A tibble: 6 × 5\n",
       "\\begin{tabular}{lllll}\n",
       " Id & SleepDay & TotalSleepRecords & TotalMinutesAsleep & TotalTimeInBed\\\\\n",
       " <dbl> & <chr> & <dbl> & <dbl> & <dbl>\\\\\n",
       "\\hline\n",
       "\t 1503960366 & 4/12/2016 12:00:00 AM & 1 & 327 & 346\\\\\n",
       "\t 1503960366 & 4/13/2016 12:00:00 AM & 2 & 384 & 407\\\\\n",
       "\t 1503960366 & 4/15/2016 12:00:00 AM & 1 & 412 & 442\\\\\n",
       "\t 1503960366 & 4/16/2016 12:00:00 AM & 2 & 340 & 367\\\\\n",
       "\t 1503960366 & 4/17/2016 12:00:00 AM & 1 & 700 & 712\\\\\n",
       "\t 1503960366 & 4/19/2016 12:00:00 AM & 1 & 304 & 320\\\\\n",
       "\\end{tabular}\n"
      ],
      "text/markdown": [
       "\n",
       "A tibble: 6 × 5\n",
       "\n",
       "| Id &lt;dbl&gt; | SleepDay &lt;chr&gt; | TotalSleepRecords &lt;dbl&gt; | TotalMinutesAsleep &lt;dbl&gt; | TotalTimeInBed &lt;dbl&gt; |\n",
       "|---|---|---|---|---|\n",
       "| 1503960366 | 4/12/2016 12:00:00 AM | 1 | 327 | 346 |\n",
       "| 1503960366 | 4/13/2016 12:00:00 AM | 2 | 384 | 407 |\n",
       "| 1503960366 | 4/15/2016 12:00:00 AM | 1 | 412 | 442 |\n",
       "| 1503960366 | 4/16/2016 12:00:00 AM | 2 | 340 | 367 |\n",
       "| 1503960366 | 4/17/2016 12:00:00 AM | 1 | 700 | 712 |\n",
       "| 1503960366 | 4/19/2016 12:00:00 AM | 1 | 304 | 320 |\n",
       "\n"
      ],
      "text/plain": [
       "  Id         SleepDay              TotalSleepRecords TotalMinutesAsleep\n",
       "1 1503960366 4/12/2016 12:00:00 AM 1                 327               \n",
       "2 1503960366 4/13/2016 12:00:00 AM 2                 384               \n",
       "3 1503960366 4/15/2016 12:00:00 AM 1                 412               \n",
       "4 1503960366 4/16/2016 12:00:00 AM 2                 340               \n",
       "5 1503960366 4/17/2016 12:00:00 AM 1                 700               \n",
       "6 1503960366 4/19/2016 12:00:00 AM 1                 304               \n",
       "  TotalTimeInBed\n",
       "1 346           \n",
       "2 407           \n",
       "3 442           \n",
       "4 367           \n",
       "5 712           \n",
       "6 320           "
      ]
     },
     "metadata": {},
     "output_type": "display_data"
    }
   ],
   "source": [
    "head(daily_sleep)"
   ]
  },
  {
   "cell_type": "code",
   "execution_count": 43,
   "id": "addd0a5d",
   "metadata": {},
   "outputs": [
    {
     "data": {
      "text/html": [
       "<table class=\"dataframe\">\n",
       "<caption>A tibble: 6 × 3</caption>\n",
       "<thead>\n",
       "\t<tr><th scope=col>Id</th><th scope=col>Time</th><th scope=col>Value</th></tr>\n",
       "\t<tr><th scope=col>&lt;dbl&gt;</th><th scope=col>&lt;chr&gt;</th><th scope=col>&lt;dbl&gt;</th></tr>\n",
       "</thead>\n",
       "<tbody>\n",
       "\t<tr><td>2022484408</td><td>4/12/2016 7:21:00 AM</td><td> 97</td></tr>\n",
       "\t<tr><td>2022484408</td><td>4/12/2016 7:21:05 AM</td><td>102</td></tr>\n",
       "\t<tr><td>2022484408</td><td>4/12/2016 7:21:10 AM</td><td>105</td></tr>\n",
       "\t<tr><td>2022484408</td><td>4/12/2016 7:21:20 AM</td><td>103</td></tr>\n",
       "\t<tr><td>2022484408</td><td>4/12/2016 7:21:25 AM</td><td>101</td></tr>\n",
       "\t<tr><td>2022484408</td><td>4/12/2016 7:22:05 AM</td><td> 95</td></tr>\n",
       "</tbody>\n",
       "</table>\n"
      ],
      "text/latex": [
       "A tibble: 6 × 3\n",
       "\\begin{tabular}{lll}\n",
       " Id & Time & Value\\\\\n",
       " <dbl> & <chr> & <dbl>\\\\\n",
       "\\hline\n",
       "\t 2022484408 & 4/12/2016 7:21:00 AM &  97\\\\\n",
       "\t 2022484408 & 4/12/2016 7:21:05 AM & 102\\\\\n",
       "\t 2022484408 & 4/12/2016 7:21:10 AM & 105\\\\\n",
       "\t 2022484408 & 4/12/2016 7:21:20 AM & 103\\\\\n",
       "\t 2022484408 & 4/12/2016 7:21:25 AM & 101\\\\\n",
       "\t 2022484408 & 4/12/2016 7:22:05 AM &  95\\\\\n",
       "\\end{tabular}\n"
      ],
      "text/markdown": [
       "\n",
       "A tibble: 6 × 3\n",
       "\n",
       "| Id &lt;dbl&gt; | Time &lt;chr&gt; | Value &lt;dbl&gt; |\n",
       "|---|---|---|\n",
       "| 2022484408 | 4/12/2016 7:21:00 AM |  97 |\n",
       "| 2022484408 | 4/12/2016 7:21:05 AM | 102 |\n",
       "| 2022484408 | 4/12/2016 7:21:10 AM | 105 |\n",
       "| 2022484408 | 4/12/2016 7:21:20 AM | 103 |\n",
       "| 2022484408 | 4/12/2016 7:21:25 AM | 101 |\n",
       "| 2022484408 | 4/12/2016 7:22:05 AM |  95 |\n",
       "\n"
      ],
      "text/plain": [
       "  Id         Time                 Value\n",
       "1 2022484408 4/12/2016 7:21:00 AM  97  \n",
       "2 2022484408 4/12/2016 7:21:05 AM 102  \n",
       "3 2022484408 4/12/2016 7:21:10 AM 105  \n",
       "4 2022484408 4/12/2016 7:21:20 AM 103  \n",
       "5 2022484408 4/12/2016 7:21:25 AM 101  \n",
       "6 2022484408 4/12/2016 7:22:05 AM  95  "
      ]
     },
     "metadata": {},
     "output_type": "display_data"
    }
   ],
   "source": [
    "head(heartrate)"
   ]
  },
  {
   "cell_type": "markdown",
   "id": "1a8fad44",
   "metadata": {},
   "source": [
    "You can see all the \"NA\" in weight_log column \"Fat\" we'll fix that soon"
   ]
  },
  {
   "cell_type": "code",
   "execution_count": 44,
   "id": "f6970dea",
   "metadata": {
    "scrolled": true
   },
   "outputs": [
    {
     "data": {
      "text/html": [
       "<table class=\"dataframe\">\n",
       "<caption>A tibble: 6 × 8</caption>\n",
       "<thead>\n",
       "\t<tr><th scope=col>Id</th><th scope=col>Date</th><th scope=col>WeightKg</th><th scope=col>WeightPounds</th><th scope=col>Fat</th><th scope=col>BMI</th><th scope=col>IsManualReport</th><th scope=col>LogId</th></tr>\n",
       "\t<tr><th scope=col>&lt;dbl&gt;</th><th scope=col>&lt;chr&gt;</th><th scope=col>&lt;dbl&gt;</th><th scope=col>&lt;dbl&gt;</th><th scope=col>&lt;dbl&gt;</th><th scope=col>&lt;dbl&gt;</th><th scope=col>&lt;lgl&gt;</th><th scope=col>&lt;dbl&gt;</th></tr>\n",
       "</thead>\n",
       "<tbody>\n",
       "\t<tr><td>1503960366</td><td>5/2/2016 11:59:59 PM </td><td> 52.6</td><td>115.9631</td><td>22</td><td>22.65</td><td> TRUE</td><td>1.462234e+12</td></tr>\n",
       "\t<tr><td>1503960366</td><td>5/3/2016 11:59:59 PM </td><td> 52.6</td><td>115.9631</td><td>NA</td><td>22.65</td><td> TRUE</td><td>1.462320e+12</td></tr>\n",
       "\t<tr><td>1927972279</td><td>4/13/2016 1:08:52 AM </td><td>133.5</td><td>294.3171</td><td>NA</td><td>47.54</td><td>FALSE</td><td>1.460510e+12</td></tr>\n",
       "\t<tr><td>2873212765</td><td>4/21/2016 11:59:59 PM</td><td> 56.7</td><td>125.0021</td><td>NA</td><td>21.45</td><td> TRUE</td><td>1.461283e+12</td></tr>\n",
       "\t<tr><td>2873212765</td><td>5/12/2016 11:59:59 PM</td><td> 57.3</td><td>126.3249</td><td>NA</td><td>21.69</td><td> TRUE</td><td>1.463098e+12</td></tr>\n",
       "\t<tr><td>4319703577</td><td>4/17/2016 11:59:59 PM</td><td> 72.4</td><td>159.6147</td><td>25</td><td>27.45</td><td> TRUE</td><td>1.460938e+12</td></tr>\n",
       "</tbody>\n",
       "</table>\n"
      ],
      "text/latex": [
       "A tibble: 6 × 8\n",
       "\\begin{tabular}{llllllll}\n",
       " Id & Date & WeightKg & WeightPounds & Fat & BMI & IsManualReport & LogId\\\\\n",
       " <dbl> & <chr> & <dbl> & <dbl> & <dbl> & <dbl> & <lgl> & <dbl>\\\\\n",
       "\\hline\n",
       "\t 1503960366 & 5/2/2016 11:59:59 PM  &  52.6 & 115.9631 & 22 & 22.65 &  TRUE & 1.462234e+12\\\\\n",
       "\t 1503960366 & 5/3/2016 11:59:59 PM  &  52.6 & 115.9631 & NA & 22.65 &  TRUE & 1.462320e+12\\\\\n",
       "\t 1927972279 & 4/13/2016 1:08:52 AM  & 133.5 & 294.3171 & NA & 47.54 & FALSE & 1.460510e+12\\\\\n",
       "\t 2873212765 & 4/21/2016 11:59:59 PM &  56.7 & 125.0021 & NA & 21.45 &  TRUE & 1.461283e+12\\\\\n",
       "\t 2873212765 & 5/12/2016 11:59:59 PM &  57.3 & 126.3249 & NA & 21.69 &  TRUE & 1.463098e+12\\\\\n",
       "\t 4319703577 & 4/17/2016 11:59:59 PM &  72.4 & 159.6147 & 25 & 27.45 &  TRUE & 1.460938e+12\\\\\n",
       "\\end{tabular}\n"
      ],
      "text/markdown": [
       "\n",
       "A tibble: 6 × 8\n",
       "\n",
       "| Id &lt;dbl&gt; | Date &lt;chr&gt; | WeightKg &lt;dbl&gt; | WeightPounds &lt;dbl&gt; | Fat &lt;dbl&gt; | BMI &lt;dbl&gt; | IsManualReport &lt;lgl&gt; | LogId &lt;dbl&gt; |\n",
       "|---|---|---|---|---|---|---|---|\n",
       "| 1503960366 | 5/2/2016 11:59:59 PM  |  52.6 | 115.9631 | 22 | 22.65 |  TRUE | 1.462234e+12 |\n",
       "| 1503960366 | 5/3/2016 11:59:59 PM  |  52.6 | 115.9631 | NA | 22.65 |  TRUE | 1.462320e+12 |\n",
       "| 1927972279 | 4/13/2016 1:08:52 AM  | 133.5 | 294.3171 | NA | 47.54 | FALSE | 1.460510e+12 |\n",
       "| 2873212765 | 4/21/2016 11:59:59 PM |  56.7 | 125.0021 | NA | 21.45 |  TRUE | 1.461283e+12 |\n",
       "| 2873212765 | 5/12/2016 11:59:59 PM |  57.3 | 126.3249 | NA | 21.69 |  TRUE | 1.463098e+12 |\n",
       "| 4319703577 | 4/17/2016 11:59:59 PM |  72.4 | 159.6147 | 25 | 27.45 |  TRUE | 1.460938e+12 |\n",
       "\n"
      ],
      "text/plain": [
       "  Id         Date                  WeightKg WeightPounds Fat BMI  \n",
       "1 1503960366 5/2/2016 11:59:59 PM   52.6    115.9631     22  22.65\n",
       "2 1503960366 5/3/2016 11:59:59 PM   52.6    115.9631     NA  22.65\n",
       "3 1927972279 4/13/2016 1:08:52 AM  133.5    294.3171     NA  47.54\n",
       "4 2873212765 4/21/2016 11:59:59 PM  56.7    125.0021     NA  21.45\n",
       "5 2873212765 5/12/2016 11:59:59 PM  57.3    126.3249     NA  21.69\n",
       "6 4319703577 4/17/2016 11:59:59 PM  72.4    159.6147     25  27.45\n",
       "  IsManualReport LogId       \n",
       "1  TRUE          1.462234e+12\n",
       "2  TRUE          1.462320e+12\n",
       "3 FALSE          1.460510e+12\n",
       "4  TRUE          1.461283e+12\n",
       "5  TRUE          1.463098e+12\n",
       "6  TRUE          1.460938e+12"
      ]
     },
     "metadata": {},
     "output_type": "display_data"
    }
   ],
   "source": [
    "head(weight_log) "
   ]
  },
  {
   "cell_type": "code",
   "execution_count": 45,
   "id": "37e62a68",
   "metadata": {},
   "outputs": [
    {
     "name": "stdout",
     "output_type": "stream",
     "text": [
      "spc_tbl_ [940 × 15] (S3: spec_tbl_df/tbl_df/tbl/data.frame)\n",
      " $ Id                      : num [1:940] 1.5e+09 1.5e+09 1.5e+09 1.5e+09 1.5e+09 ...\n",
      " $ ActivityDate            : chr [1:940] \"4/12/2016\" \"4/13/2016\" \"4/14/2016\" \"4/15/2016\" ...\n",
      " $ TotalSteps              : num [1:940] 13162 10735 10460 9762 12669 ...\n",
      " $ TotalDistance           : num [1:940] 8.5 6.97 6.74 6.28 8.16 ...\n",
      " $ TrackerDistance         : num [1:940] 8.5 6.97 6.74 6.28 8.16 ...\n",
      " $ LoggedActivitiesDistance: num [1:940] 0 0 0 0 0 0 0 0 0 0 ...\n",
      " $ VeryActiveDistance      : num [1:940] 1.88 1.57 2.44 2.14 2.71 ...\n",
      " $ ModeratelyActiveDistance: num [1:940] 0.55 0.69 0.4 1.26 0.41 ...\n",
      " $ LightActiveDistance     : num [1:940] 6.06 4.71 3.91 2.83 5.04 ...\n",
      " $ SedentaryActiveDistance : num [1:940] 0 0 0 0 0 0 0 0 0 0 ...\n",
      " $ VeryActiveMinutes       : num [1:940] 25 21 30 29 36 38 42 50 28 19 ...\n",
      " $ FairlyActiveMinutes     : num [1:940] 13 19 11 34 10 20 16 31 12 8 ...\n",
      " $ LightlyActiveMinutes    : num [1:940] 328 217 181 209 221 164 233 264 205 211 ...\n",
      " $ SedentaryMinutes        : num [1:940] 728 776 1218 726 773 ...\n",
      " $ Calories                : num [1:940] 1985 1797 1776 1745 1863 ...\n",
      " - attr(*, \"spec\")=\n",
      "  .. cols(\n",
      "  ..   Id = \u001b[32mcol_double()\u001b[39m,\n",
      "  ..   ActivityDate = \u001b[31mcol_character()\u001b[39m,\n",
      "  ..   TotalSteps = \u001b[32mcol_double()\u001b[39m,\n",
      "  ..   TotalDistance = \u001b[32mcol_double()\u001b[39m,\n",
      "  ..   TrackerDistance = \u001b[32mcol_double()\u001b[39m,\n",
      "  ..   LoggedActivitiesDistance = \u001b[32mcol_double()\u001b[39m,\n",
      "  ..   VeryActiveDistance = \u001b[32mcol_double()\u001b[39m,\n",
      "  ..   ModeratelyActiveDistance = \u001b[32mcol_double()\u001b[39m,\n",
      "  ..   LightActiveDistance = \u001b[32mcol_double()\u001b[39m,\n",
      "  ..   SedentaryActiveDistance = \u001b[32mcol_double()\u001b[39m,\n",
      "  ..   VeryActiveMinutes = \u001b[32mcol_double()\u001b[39m,\n",
      "  ..   FairlyActiveMinutes = \u001b[32mcol_double()\u001b[39m,\n",
      "  ..   LightlyActiveMinutes = \u001b[32mcol_double()\u001b[39m,\n",
      "  ..   SedentaryMinutes = \u001b[32mcol_double()\u001b[39m,\n",
      "  ..   Calories = \u001b[32mcol_double()\u001b[39m\n",
      "  .. )\n",
      " - attr(*, \"problems\")=<externalptr> \n"
     ]
    }
   ],
   "source": [
    "str(daily_activity)"
   ]
  },
  {
   "cell_type": "code",
   "execution_count": 46,
   "id": "9ea93ed4",
   "metadata": {},
   "outputs": [
    {
     "name": "stdout",
     "output_type": "stream",
     "text": [
      "spc_tbl_ [413 × 5] (S3: spec_tbl_df/tbl_df/tbl/data.frame)\n",
      " $ Id                : num [1:413] 1.5e+09 1.5e+09 1.5e+09 1.5e+09 1.5e+09 ...\n",
      " $ SleepDay          : chr [1:413] \"4/12/2016 12:00:00 AM\" \"4/13/2016 12:00:00 AM\" \"4/15/2016 12:00:00 AM\" \"4/16/2016 12:00:00 AM\" ...\n",
      " $ TotalSleepRecords : num [1:413] 1 2 1 2 1 1 1 1 1 1 ...\n",
      " $ TotalMinutesAsleep: num [1:413] 327 384 412 340 700 304 360 325 361 430 ...\n",
      " $ TotalTimeInBed    : num [1:413] 346 407 442 367 712 320 377 364 384 449 ...\n",
      " - attr(*, \"spec\")=\n",
      "  .. cols(\n",
      "  ..   Id = \u001b[32mcol_double()\u001b[39m,\n",
      "  ..   SleepDay = \u001b[31mcol_character()\u001b[39m,\n",
      "  ..   TotalSleepRecords = \u001b[32mcol_double()\u001b[39m,\n",
      "  ..   TotalMinutesAsleep = \u001b[32mcol_double()\u001b[39m,\n",
      "  ..   TotalTimeInBed = \u001b[32mcol_double()\u001b[39m\n",
      "  .. )\n",
      " - attr(*, \"problems\")=<externalptr> \n"
     ]
    }
   ],
   "source": [
    "str(daily_sleep)"
   ]
  },
  {
   "cell_type": "code",
   "execution_count": 47,
   "id": "d423268b",
   "metadata": {},
   "outputs": [
    {
     "name": "stdout",
     "output_type": "stream",
     "text": [
      "spc_tbl_ [2,483,658 × 3] (S3: spec_tbl_df/tbl_df/tbl/data.frame)\n",
      " $ Id   : num [1:2483658] 2.02e+09 2.02e+09 2.02e+09 2.02e+09 2.02e+09 ...\n",
      " $ Time : chr [1:2483658] \"4/12/2016 7:21:00 AM\" \"4/12/2016 7:21:05 AM\" \"4/12/2016 7:21:10 AM\" \"4/12/2016 7:21:20 AM\" ...\n",
      " $ Value: num [1:2483658] 97 102 105 103 101 95 91 93 94 93 ...\n",
      " - attr(*, \"spec\")=\n",
      "  .. cols(\n",
      "  ..   Id = \u001b[32mcol_double()\u001b[39m,\n",
      "  ..   Time = \u001b[31mcol_character()\u001b[39m,\n",
      "  ..   Value = \u001b[32mcol_double()\u001b[39m\n",
      "  .. )\n",
      " - attr(*, \"problems\")=<externalptr> \n"
     ]
    }
   ],
   "source": [
    "str(heartrate)"
   ]
  },
  {
   "cell_type": "code",
   "execution_count": 48,
   "id": "05462f86",
   "metadata": {},
   "outputs": [
    {
     "name": "stdout",
     "output_type": "stream",
     "text": [
      "spc_tbl_ [67 × 8] (S3: spec_tbl_df/tbl_df/tbl/data.frame)\n",
      " $ Id            : num [1:67] 1.50e+09 1.50e+09 1.93e+09 2.87e+09 2.87e+09 ...\n",
      " $ Date          : chr [1:67] \"5/2/2016 11:59:59 PM\" \"5/3/2016 11:59:59 PM\" \"4/13/2016 1:08:52 AM\" \"4/21/2016 11:59:59 PM\" ...\n",
      " $ WeightKg      : num [1:67] 52.6 52.6 133.5 56.7 57.3 ...\n",
      " $ WeightPounds  : num [1:67] 116 116 294 125 126 ...\n",
      " $ Fat           : num [1:67] 22 NA NA NA NA 25 NA NA NA NA ...\n",
      " $ BMI           : num [1:67] 22.6 22.6 47.5 21.5 21.7 ...\n",
      " $ IsManualReport: logi [1:67] TRUE TRUE FALSE TRUE TRUE TRUE ...\n",
      " $ LogId         : num [1:67] 1.46e+12 1.46e+12 1.46e+12 1.46e+12 1.46e+12 ...\n",
      " - attr(*, \"spec\")=\n",
      "  .. cols(\n",
      "  ..   Id = \u001b[32mcol_double()\u001b[39m,\n",
      "  ..   Date = \u001b[31mcol_character()\u001b[39m,\n",
      "  ..   WeightKg = \u001b[32mcol_double()\u001b[39m,\n",
      "  ..   WeightPounds = \u001b[32mcol_double()\u001b[39m,\n",
      "  ..   Fat = \u001b[32mcol_double()\u001b[39m,\n",
      "  ..   BMI = \u001b[32mcol_double()\u001b[39m,\n",
      "  ..   IsManualReport = \u001b[33mcol_logical()\u001b[39m,\n",
      "  ..   LogId = \u001b[32mcol_double()\u001b[39m\n",
      "  .. )\n",
      " - attr(*, \"problems\")=<externalptr> \n"
     ]
    }
   ],
   "source": [
    "str(weight_log)"
   ]
  },
  {
   "cell_type": "markdown",
   "id": "47f9dbf6",
   "metadata": {},
   "source": [
    "### <span style=\"color:#6B8E23\"> Cleaning </span>\n",
    "\n",
    "There are 33 total participates per daily_activity$Id"
   ]
  },
  {
   "cell_type": "code",
   "execution_count": 49,
   "id": "13b9b8a9",
   "metadata": {},
   "outputs": [
    {
     "data": {
      "text/html": [
       "33"
      ],
      "text/latex": [
       "33"
      ],
      "text/markdown": [
       "33"
      ],
      "text/plain": [
       "[1] 33"
      ]
     },
     "metadata": {},
     "output_type": "display_data"
    }
   ],
   "source": [
    "n_unique(daily_activity$Id)  "
   ]
  },
  {
   "cell_type": "code",
   "execution_count": 50,
   "id": "b29079d6",
   "metadata": {},
   "outputs": [
    {
     "data": {
      "text/html": [
       "24"
      ],
      "text/latex": [
       "24"
      ],
      "text/markdown": [
       "24"
      ],
      "text/plain": [
       "[1] 24"
      ]
     },
     "metadata": {},
     "output_type": "display_data"
    }
   ],
   "source": [
    "n_unique(daily_sleep$Id)"
   ]
  },
  {
   "cell_type": "code",
   "execution_count": 51,
   "id": "256b4527",
   "metadata": {},
   "outputs": [
    {
     "data": {
      "text/html": [
       "14"
      ],
      "text/latex": [
       "14"
      ],
      "text/markdown": [
       "14"
      ],
      "text/plain": [
       "[1] 14"
      ]
     },
     "metadata": {},
     "output_type": "display_data"
    }
   ],
   "source": [
    "n_unique(heartrate$Id)"
   ]
  },
  {
   "cell_type": "code",
   "execution_count": 52,
   "id": "f2312ef4",
   "metadata": {},
   "outputs": [
    {
     "data": {
      "text/html": [
       "8"
      ],
      "text/latex": [
       "8"
      ],
      "text/markdown": [
       "8"
      ],
      "text/plain": [
       "[1] 8"
      ]
     },
     "metadata": {},
     "output_type": "display_data"
    }
   ],
   "source": [
    "n_unique(weight_log$Id)"
   ]
  },
  {
   "cell_type": "code",
   "execution_count": 53,
   "id": "d466bcf0",
   "metadata": {},
   "outputs": [
    {
     "data": {
      "text/html": [
       "0"
      ],
      "text/latex": [
       "0"
      ],
      "text/markdown": [
       "0"
      ],
      "text/plain": [
       "[1] 0"
      ]
     },
     "metadata": {},
     "output_type": "display_data"
    }
   ],
   "source": [
    "sum(duplicated(daily_activity))"
   ]
  },
  {
   "cell_type": "code",
   "execution_count": 54,
   "id": "1f4bfd18",
   "metadata": {},
   "outputs": [
    {
     "data": {
      "text/html": [
       "0"
      ],
      "text/latex": [
       "0"
      ],
      "text/markdown": [
       "0"
      ],
      "text/plain": [
       "[1] 0"
      ]
     },
     "metadata": {},
     "output_type": "display_data"
    }
   ],
   "source": [
    "sum(duplicated(heartrate))"
   ]
  },
  {
   "cell_type": "code",
   "execution_count": 55,
   "id": "7135da9f",
   "metadata": {},
   "outputs": [
    {
     "data": {
      "text/html": [
       "0"
      ],
      "text/latex": [
       "0"
      ],
      "text/markdown": [
       "0"
      ],
      "text/plain": [
       "[1] 0"
      ]
     },
     "metadata": {},
     "output_type": "display_data"
    }
   ],
   "source": [
    "sum(duplicated(weight_log))"
   ]
  },
  {
   "cell_type": "markdown",
   "id": "443dcd41",
   "metadata": {},
   "source": [
    "daily_sleep is the only object that has duplicates"
   ]
  },
  {
   "cell_type": "code",
   "execution_count": 56,
   "id": "3c098b77",
   "metadata": {},
   "outputs": [
    {
     "data": {
      "text/html": [
       "3"
      ],
      "text/latex": [
       "3"
      ],
      "text/markdown": [
       "3"
      ],
      "text/plain": [
       "[1] 3"
      ]
     },
     "metadata": {},
     "output_type": "display_data"
    }
   ],
   "source": [
    "sum(duplicated(daily_sleep)) "
   ]
  },
  {
   "cell_type": "markdown",
   "id": "a488bf71",
   "metadata": {},
   "source": [
    "Three of the rows have duplicate data. We must remove them"
   ]
  },
  {
   "cell_type": "code",
   "execution_count": 57,
   "id": "a7c11daa",
   "metadata": {},
   "outputs": [
    {
     "data": {
      "text/html": [
       "<table class=\"dataframe\">\n",
       "<caption>A tibble: 6 × 5</caption>\n",
       "<thead>\n",
       "\t<tr><th scope=col>Id</th><th scope=col>SleepDay</th><th scope=col>TotalSleepRecords</th><th scope=col>TotalMinutesAsleep</th><th scope=col>TotalTimeInBed</th></tr>\n",
       "\t<tr><th scope=col>&lt;dbl&gt;</th><th scope=col>&lt;chr&gt;</th><th scope=col>&lt;dbl&gt;</th><th scope=col>&lt;dbl&gt;</th><th scope=col>&lt;dbl&gt;</th></tr>\n",
       "</thead>\n",
       "<tbody>\n",
       "\t<tr><td>4388161847</td><td>5/5/2016 12:00:00 AM </td><td>1</td><td>471</td><td>495</td></tr>\n",
       "\t<tr><td>4388161847</td><td>5/5/2016 12:00:00 AM </td><td>1</td><td>471</td><td>495</td></tr>\n",
       "\t<tr><td>4702921684</td><td>5/7/2016 12:00:00 AM </td><td>1</td><td>520</td><td>543</td></tr>\n",
       "\t<tr><td>4702921684</td><td>5/7/2016 12:00:00 AM </td><td>1</td><td>520</td><td>543</td></tr>\n",
       "\t<tr><td>8378563200</td><td>4/25/2016 12:00:00 AM</td><td>1</td><td>388</td><td>402</td></tr>\n",
       "\t<tr><td>8378563200</td><td>4/25/2016 12:00:00 AM</td><td>1</td><td>388</td><td>402</td></tr>\n",
       "</tbody>\n",
       "</table>\n"
      ],
      "text/latex": [
       "A tibble: 6 × 5\n",
       "\\begin{tabular}{lllll}\n",
       " Id & SleepDay & TotalSleepRecords & TotalMinutesAsleep & TotalTimeInBed\\\\\n",
       " <dbl> & <chr> & <dbl> & <dbl> & <dbl>\\\\\n",
       "\\hline\n",
       "\t 4388161847 & 5/5/2016 12:00:00 AM  & 1 & 471 & 495\\\\\n",
       "\t 4388161847 & 5/5/2016 12:00:00 AM  & 1 & 471 & 495\\\\\n",
       "\t 4702921684 & 5/7/2016 12:00:00 AM  & 1 & 520 & 543\\\\\n",
       "\t 4702921684 & 5/7/2016 12:00:00 AM  & 1 & 520 & 543\\\\\n",
       "\t 8378563200 & 4/25/2016 12:00:00 AM & 1 & 388 & 402\\\\\n",
       "\t 8378563200 & 4/25/2016 12:00:00 AM & 1 & 388 & 402\\\\\n",
       "\\end{tabular}\n"
      ],
      "text/markdown": [
       "\n",
       "A tibble: 6 × 5\n",
       "\n",
       "| Id &lt;dbl&gt; | SleepDay &lt;chr&gt; | TotalSleepRecords &lt;dbl&gt; | TotalMinutesAsleep &lt;dbl&gt; | TotalTimeInBed &lt;dbl&gt; |\n",
       "|---|---|---|---|---|\n",
       "| 4388161847 | 5/5/2016 12:00:00 AM  | 1 | 471 | 495 |\n",
       "| 4388161847 | 5/5/2016 12:00:00 AM  | 1 | 471 | 495 |\n",
       "| 4702921684 | 5/7/2016 12:00:00 AM  | 1 | 520 | 543 |\n",
       "| 4702921684 | 5/7/2016 12:00:00 AM  | 1 | 520 | 543 |\n",
       "| 8378563200 | 4/25/2016 12:00:00 AM | 1 | 388 | 402 |\n",
       "| 8378563200 | 4/25/2016 12:00:00 AM | 1 | 388 | 402 |\n",
       "\n"
      ],
      "text/plain": [
       "  Id         SleepDay              TotalSleepRecords TotalMinutesAsleep\n",
       "1 4388161847 5/5/2016 12:00:00 AM  1                 471               \n",
       "2 4388161847 5/5/2016 12:00:00 AM  1                 471               \n",
       "3 4702921684 5/7/2016 12:00:00 AM  1                 520               \n",
       "4 4702921684 5/7/2016 12:00:00 AM  1                 520               \n",
       "5 8378563200 4/25/2016 12:00:00 AM 1                 388               \n",
       "6 8378563200 4/25/2016 12:00:00 AM 1                 388               \n",
       "  TotalTimeInBed\n",
       "1 495           \n",
       "2 495           \n",
       "3 543           \n",
       "4 543           \n",
       "5 402           \n",
       "6 402           "
      ]
     },
     "metadata": {},
     "output_type": "display_data"
    }
   ],
   "source": [
    "duplicates <- daily_sleep[duplicated(daily_sleep) | duplicated(daily_sleep, fromLast = TRUE), ]\n",
    "View(duplicates)\n",
    "daily_sleep <- daily_sleep[!duplicated(daily_sleep), ]"
   ]
  },
  {
   "cell_type": "markdown",
   "id": "fb9dfd3e",
   "metadata": {},
   "source": [
    "We went from 413 rows to 410. All 3 duplicated rows have been removed"
   ]
  },
  {
   "cell_type": "code",
   "execution_count": 58,
   "id": "9133d3e8",
   "metadata": {},
   "outputs": [
    {
     "data": {
      "text/html": [
       "0"
      ],
      "text/latex": [
       "0"
      ],
      "text/markdown": [
       "0"
      ],
      "text/plain": [
       "[1] 0"
      ]
     },
     "metadata": {},
     "output_type": "display_data"
    }
   ],
   "source": [
    "sum(duplicated(daily_sleep))"
   ]
  },
  {
   "cell_type": "code",
   "execution_count": 59,
   "id": "ac17ca3e",
   "metadata": {},
   "outputs": [
    {
     "data": {
      "text/html": [
       "FALSE"
      ],
      "text/latex": [
       "FALSE"
      ],
      "text/markdown": [
       "FALSE"
      ],
      "text/plain": [
       "[1] FALSE"
      ]
     },
     "metadata": {},
     "output_type": "display_data"
    }
   ],
   "source": [
    "any(is.na(daily_activity))"
   ]
  },
  {
   "cell_type": "code",
   "execution_count": 60,
   "id": "56e224e4",
   "metadata": {},
   "outputs": [
    {
     "data": {
      "text/html": [
       "FALSE"
      ],
      "text/latex": [
       "FALSE"
      ],
      "text/markdown": [
       "FALSE"
      ],
      "text/plain": [
       "[1] FALSE"
      ]
     },
     "metadata": {},
     "output_type": "display_data"
    }
   ],
   "source": [
    "any(is.na(daily_sleep))"
   ]
  },
  {
   "cell_type": "code",
   "execution_count": 61,
   "id": "f14ad9c3",
   "metadata": {},
   "outputs": [
    {
     "data": {
      "text/html": [
       "FALSE"
      ],
      "text/latex": [
       "FALSE"
      ],
      "text/markdown": [
       "FALSE"
      ],
      "text/plain": [
       "[1] FALSE"
      ]
     },
     "metadata": {},
     "output_type": "display_data"
    }
   ],
   "source": [
    "any(is.na(heartrate))"
   ]
  },
  {
   "cell_type": "markdown",
   "id": "9106a2e5",
   "metadata": {},
   "source": [
    "weight_log is the only object that has missing values"
   ]
  },
  {
   "cell_type": "code",
   "execution_count": 62,
   "id": "2c0a9898",
   "metadata": {},
   "outputs": [
    {
     "data": {
      "text/html": [
       "TRUE"
      ],
      "text/latex": [
       "TRUE"
      ],
      "text/markdown": [
       "TRUE"
      ],
      "text/plain": [
       "[1] TRUE"
      ]
     },
     "metadata": {},
     "output_type": "display_data"
    }
   ],
   "source": [
    "any(is.na(weight_log))"
   ]
  },
  {
   "cell_type": "markdown",
   "id": "7be4de2a",
   "metadata": {},
   "source": [
    "Only 2 rows of the entire column “Fat” have data. In this situation, without any actual stakeholders to communicate with; our only solution is to remove the whole column. If we remove every row with empty data, we’ll be left with 2."
   ]
  },
  {
   "cell_type": "markdown",
   "id": "18086c38",
   "metadata": {},
   "source": [
    "We went from 8 columns to 7. Column “Fat” has been removed"
   ]
  },
  {
   "cell_type": "code",
   "execution_count": 63,
   "id": "eb60a44f",
   "metadata": {},
   "outputs": [
    {
     "data": {
      "text/html": [
       "<table class=\"dataframe\">\n",
       "<caption>A spec_tbl_df: 67 × 8</caption>\n",
       "<thead>\n",
       "\t<tr><th scope=col>Id</th><th scope=col>Date</th><th scope=col>WeightKg</th><th scope=col>WeightPounds</th><th scope=col>Fat</th><th scope=col>BMI</th><th scope=col>IsManualReport</th><th scope=col>LogId</th></tr>\n",
       "\t<tr><th scope=col>&lt;dbl&gt;</th><th scope=col>&lt;chr&gt;</th><th scope=col>&lt;dbl&gt;</th><th scope=col>&lt;dbl&gt;</th><th scope=col>&lt;dbl&gt;</th><th scope=col>&lt;dbl&gt;</th><th scope=col>&lt;lgl&gt;</th><th scope=col>&lt;dbl&gt;</th></tr>\n",
       "</thead>\n",
       "<tbody>\n",
       "\t<tr><td>1503960366</td><td>5/2/2016 11:59:59 PM </td><td> 52.6</td><td>115.9631</td><td>22</td><td>22.65</td><td> TRUE</td><td>1.462234e+12</td></tr>\n",
       "\t<tr><td>1503960366</td><td>5/3/2016 11:59:59 PM </td><td> 52.6</td><td>115.9631</td><td>NA</td><td>22.65</td><td> TRUE</td><td>1.462320e+12</td></tr>\n",
       "\t<tr><td>1927972279</td><td>4/13/2016 1:08:52 AM </td><td>133.5</td><td>294.3171</td><td>NA</td><td>47.54</td><td>FALSE</td><td>1.460510e+12</td></tr>\n",
       "\t<tr><td>2873212765</td><td>4/21/2016 11:59:59 PM</td><td> 56.7</td><td>125.0021</td><td>NA</td><td>21.45</td><td> TRUE</td><td>1.461283e+12</td></tr>\n",
       "\t<tr><td>2873212765</td><td>5/12/2016 11:59:59 PM</td><td> 57.3</td><td>126.3249</td><td>NA</td><td>21.69</td><td> TRUE</td><td>1.463098e+12</td></tr>\n",
       "\t<tr><td>4319703577</td><td>4/17/2016 11:59:59 PM</td><td> 72.4</td><td>159.6147</td><td>25</td><td>27.45</td><td> TRUE</td><td>1.460938e+12</td></tr>\n",
       "\t<tr><td>4319703577</td><td>5/4/2016 11:59:59 PM </td><td> 72.3</td><td>159.3942</td><td>NA</td><td>27.38</td><td> TRUE</td><td>1.462406e+12</td></tr>\n",
       "\t<tr><td>4558609924</td><td>4/18/2016 11:59:59 PM</td><td> 69.7</td><td>153.6622</td><td>NA</td><td>27.25</td><td> TRUE</td><td>1.461024e+12</td></tr>\n",
       "\t<tr><td>4558609924</td><td>4/25/2016 11:59:59 PM</td><td> 70.3</td><td>154.9850</td><td>NA</td><td>27.46</td><td> TRUE</td><td>1.461629e+12</td></tr>\n",
       "\t<tr><td>4558609924</td><td>5/1/2016 11:59:59 PM </td><td> 69.9</td><td>154.1031</td><td>NA</td><td>27.32</td><td> TRUE</td><td>1.462147e+12</td></tr>\n",
       "\t<tr><td>4558609924</td><td>5/2/2016 11:59:59 PM </td><td> 69.2</td><td>152.5599</td><td>NA</td><td>27.04</td><td> TRUE</td><td>1.462234e+12</td></tr>\n",
       "\t<tr><td>4558609924</td><td>5/9/2016 11:59:59 PM </td><td> 69.1</td><td>152.3394</td><td>NA</td><td>27.00</td><td> TRUE</td><td>1.462838e+12</td></tr>\n",
       "\t<tr><td>5577150313</td><td>4/17/2016 9:17:55 AM </td><td> 90.7</td><td>199.9593</td><td>NA</td><td>28.00</td><td>FALSE</td><td>1.460885e+12</td></tr>\n",
       "\t<tr><td>6962181067</td><td>4/12/2016 11:59:59 PM</td><td> 62.5</td><td>137.7889</td><td>NA</td><td>24.39</td><td> TRUE</td><td>1.460506e+12</td></tr>\n",
       "\t<tr><td>6962181067</td><td>4/13/2016 11:59:59 PM</td><td> 62.1</td><td>136.9071</td><td>NA</td><td>24.24</td><td> TRUE</td><td>1.460592e+12</td></tr>\n",
       "\t<tr><td>6962181067</td><td>4/14/2016 11:59:59 PM</td><td> 61.7</td><td>136.0252</td><td>NA</td><td>24.10</td><td> TRUE</td><td>1.460678e+12</td></tr>\n",
       "\t<tr><td>6962181067</td><td>4/15/2016 11:59:59 PM</td><td> 61.5</td><td>135.5843</td><td>NA</td><td>24.00</td><td> TRUE</td><td>1.460765e+12</td></tr>\n",
       "\t<tr><td>6962181067</td><td>4/16/2016 11:59:59 PM</td><td> 62.0</td><td>136.6866</td><td>NA</td><td>24.21</td><td> TRUE</td><td>1.460851e+12</td></tr>\n",
       "\t<tr><td>6962181067</td><td>4/17/2016 11:59:59 PM</td><td> 61.4</td><td>135.3638</td><td>NA</td><td>23.96</td><td> TRUE</td><td>1.460938e+12</td></tr>\n",
       "\t<tr><td>6962181067</td><td>4/18/2016 11:59:59 PM</td><td> 61.2</td><td>134.9229</td><td>NA</td><td>23.89</td><td> TRUE</td><td>1.461024e+12</td></tr>\n",
       "\t<tr><td>6962181067</td><td>4/19/2016 11:59:59 PM</td><td> 61.4</td><td>135.3638</td><td>NA</td><td>23.96</td><td> TRUE</td><td>1.461110e+12</td></tr>\n",
       "\t<tr><td>6962181067</td><td>4/20/2016 11:59:59 PM</td><td> 61.7</td><td>136.0252</td><td>NA</td><td>24.10</td><td> TRUE</td><td>1.461197e+12</td></tr>\n",
       "\t<tr><td>6962181067</td><td>4/21/2016 11:59:59 PM</td><td> 61.4</td><td>135.3638</td><td>NA</td><td>23.96</td><td> TRUE</td><td>1.461283e+12</td></tr>\n",
       "\t<tr><td>6962181067</td><td>4/22/2016 11:59:59 PM</td><td> 61.4</td><td>135.3638</td><td>NA</td><td>23.96</td><td> TRUE</td><td>1.461370e+12</td></tr>\n",
       "\t<tr><td>6962181067</td><td>4/23/2016 11:59:59 PM</td><td> 61.5</td><td>135.5843</td><td>NA</td><td>24.00</td><td> TRUE</td><td>1.461456e+12</td></tr>\n",
       "\t<tr><td>6962181067</td><td>4/24/2016 11:59:59 PM</td><td> 61.5</td><td>135.5843</td><td>NA</td><td>24.00</td><td> TRUE</td><td>1.461542e+12</td></tr>\n",
       "\t<tr><td>6962181067</td><td>4/25/2016 11:59:59 PM</td><td> 61.7</td><td>136.0252</td><td>NA</td><td>24.10</td><td> TRUE</td><td>1.461629e+12</td></tr>\n",
       "\t<tr><td>6962181067</td><td>4/27/2016 11:59:59 PM</td><td> 61.2</td><td>134.9229</td><td>NA</td><td>23.89</td><td> TRUE</td><td>1.461802e+12</td></tr>\n",
       "\t<tr><td>6962181067</td><td>4/28/2016 11:59:59 PM</td><td> 61.2</td><td>134.9229</td><td>NA</td><td>23.89</td><td> TRUE</td><td>1.461888e+12</td></tr>\n",
       "\t<tr><td>6962181067</td><td>4/29/2016 11:59:59 PM</td><td> 61.4</td><td>135.3638</td><td>NA</td><td>23.96</td><td> TRUE</td><td>1.461974e+12</td></tr>\n",
       "\t<tr><td>⋮</td><td>⋮</td><td>⋮</td><td>⋮</td><td>⋮</td><td>⋮</td><td>⋮</td><td>⋮</td></tr>\n",
       "\t<tr><td>6962181067</td><td>5/7/2016 11:59:59 PM </td><td>61.2</td><td>134.9229</td><td>NA</td><td>23.89</td><td> TRUE</td><td>1.462666e+12</td></tr>\n",
       "\t<tr><td>6962181067</td><td>5/8/2016 11:59:59 PM </td><td>61.2</td><td>134.9229</td><td>NA</td><td>23.89</td><td> TRUE</td><td>1.462752e+12</td></tr>\n",
       "\t<tr><td>6962181067</td><td>5/9/2016 11:59:59 PM </td><td>62.4</td><td>137.5685</td><td>NA</td><td>24.35</td><td> TRUE</td><td>1.462838e+12</td></tr>\n",
       "\t<tr><td>6962181067</td><td>5/10/2016 11:59:59 PM</td><td>62.1</td><td>136.9071</td><td>NA</td><td>24.24</td><td> TRUE</td><td>1.462925e+12</td></tr>\n",
       "\t<tr><td>6962181067</td><td>5/11/2016 11:59:59 PM</td><td>61.9</td><td>136.4661</td><td>NA</td><td>24.17</td><td> TRUE</td><td>1.463011e+12</td></tr>\n",
       "\t<tr><td>6962181067</td><td>5/12/2016 11:59:59 PM</td><td>61.9</td><td>136.4661</td><td>NA</td><td>24.17</td><td> TRUE</td><td>1.463098e+12</td></tr>\n",
       "\t<tr><td>8877689391</td><td>4/12/2016 6:47:11 AM </td><td>85.8</td><td>189.1566</td><td>NA</td><td>25.68</td><td>FALSE</td><td>1.460444e+12</td></tr>\n",
       "\t<tr><td>8877689391</td><td>4/13/2016 6:55:00 AM </td><td>84.9</td><td>187.1725</td><td>NA</td><td>25.41</td><td>FALSE</td><td>1.460531e+12</td></tr>\n",
       "\t<tr><td>8877689391</td><td>4/14/2016 6:48:43 AM </td><td>84.5</td><td>186.2906</td><td>NA</td><td>25.31</td><td>FALSE</td><td>1.460617e+12</td></tr>\n",
       "\t<tr><td>8877689391</td><td>4/16/2016 1:39:25 PM </td><td>85.5</td><td>188.4952</td><td>NA</td><td>25.59</td><td>FALSE</td><td>1.460814e+12</td></tr>\n",
       "\t<tr><td>8877689391</td><td>4/18/2016 6:51:14 AM </td><td>85.8</td><td>189.1566</td><td>NA</td><td>25.68</td><td>FALSE</td><td>1.460962e+12</td></tr>\n",
       "\t<tr><td>8877689391</td><td>4/19/2016 6:39:31 AM </td><td>85.3</td><td>188.0543</td><td>NA</td><td>25.53</td><td>FALSE</td><td>1.461048e+12</td></tr>\n",
       "\t<tr><td>8877689391</td><td>4/20/2016 6:44:54 AM </td><td>84.9</td><td>187.1725</td><td>NA</td><td>25.41</td><td>FALSE</td><td>1.461135e+12</td></tr>\n",
       "\t<tr><td>8877689391</td><td>4/21/2016 6:50:27 AM </td><td>84.5</td><td>186.2906</td><td>NA</td><td>25.29</td><td>FALSE</td><td>1.461221e+12</td></tr>\n",
       "\t<tr><td>8877689391</td><td>4/23/2016 7:22:28 AM </td><td>85.5</td><td>188.4952</td><td>NA</td><td>25.59</td><td>FALSE</td><td>1.461396e+12</td></tr>\n",
       "\t<tr><td>8877689391</td><td>4/24/2016 7:38:05 AM </td><td>85.5</td><td>188.4952</td><td>NA</td><td>25.59</td><td>FALSE</td><td>1.461483e+12</td></tr>\n",
       "\t<tr><td>8877689391</td><td>4/25/2016 6:40:16 AM </td><td>85.4</td><td>188.2748</td><td>NA</td><td>25.56</td><td>FALSE</td><td>1.461566e+12</td></tr>\n",
       "\t<tr><td>8877689391</td><td>4/26/2016 6:50:27 AM </td><td>85.1</td><td>187.6134</td><td>NA</td><td>25.49</td><td>FALSE</td><td>1.461653e+12</td></tr>\n",
       "\t<tr><td>8877689391</td><td>4/27/2016 6:51:05 AM </td><td>85.4</td><td>188.2748</td><td>NA</td><td>25.56</td><td>FALSE</td><td>1.461740e+12</td></tr>\n",
       "\t<tr><td>8877689391</td><td>4/28/2016 6:50:03 AM </td><td>85.1</td><td>187.6134</td><td>NA</td><td>25.49</td><td>FALSE</td><td>1.461826e+12</td></tr>\n",
       "\t<tr><td>8877689391</td><td>4/29/2016 6:49:55 AM </td><td>84.9</td><td>187.1725</td><td>NA</td><td>25.41</td><td>FALSE</td><td>1.461913e+12</td></tr>\n",
       "\t<tr><td>8877689391</td><td>4/30/2016 7:49:03 AM </td><td>85.5</td><td>188.4952</td><td>NA</td><td>25.59</td><td>FALSE</td><td>1.462003e+12</td></tr>\n",
       "\t<tr><td>8877689391</td><td>5/1/2016 8:47:49 AM  </td><td>85.3</td><td>188.0543</td><td>NA</td><td>25.53</td><td>FALSE</td><td>1.462092e+12</td></tr>\n",
       "\t<tr><td>8877689391</td><td>5/3/2016 6:49:41 AM  </td><td>84.9</td><td>187.1725</td><td>NA</td><td>25.41</td><td>FALSE</td><td>1.462258e+12</td></tr>\n",
       "\t<tr><td>8877689391</td><td>5/4/2016 6:48:22 AM  </td><td>84.4</td><td>186.0702</td><td>NA</td><td>25.26</td><td>FALSE</td><td>1.462345e+12</td></tr>\n",
       "\t<tr><td>8877689391</td><td>5/6/2016 6:43:35 AM  </td><td>85.0</td><td>187.3929</td><td>NA</td><td>25.44</td><td>FALSE</td><td>1.462517e+12</td></tr>\n",
       "\t<tr><td>8877689391</td><td>5/8/2016 7:35:53 AM  </td><td>85.4</td><td>188.2748</td><td>NA</td><td>25.56</td><td>FALSE</td><td>1.462693e+12</td></tr>\n",
       "\t<tr><td>8877689391</td><td>5/9/2016 6:39:44 AM  </td><td>85.5</td><td>188.4952</td><td>NA</td><td>25.61</td><td>FALSE</td><td>1.462776e+12</td></tr>\n",
       "\t<tr><td>8877689391</td><td>5/11/2016 6:51:47 AM </td><td>85.4</td><td>188.2748</td><td>NA</td><td>25.56</td><td>FALSE</td><td>1.462950e+12</td></tr>\n",
       "\t<tr><td>8877689391</td><td>5/12/2016 6:42:53 AM </td><td>84.0</td><td>185.1883</td><td>NA</td><td>25.14</td><td>FALSE</td><td>1.463035e+12</td></tr>\n",
       "</tbody>\n",
       "</table>\n"
      ],
      "text/latex": [
       "A spec\\_tbl\\_df: 67 × 8\n",
       "\\begin{tabular}{llllllll}\n",
       " Id & Date & WeightKg & WeightPounds & Fat & BMI & IsManualReport & LogId\\\\\n",
       " <dbl> & <chr> & <dbl> & <dbl> & <dbl> & <dbl> & <lgl> & <dbl>\\\\\n",
       "\\hline\n",
       "\t 1503960366 & 5/2/2016 11:59:59 PM  &  52.6 & 115.9631 & 22 & 22.65 &  TRUE & 1.462234e+12\\\\\n",
       "\t 1503960366 & 5/3/2016 11:59:59 PM  &  52.6 & 115.9631 & NA & 22.65 &  TRUE & 1.462320e+12\\\\\n",
       "\t 1927972279 & 4/13/2016 1:08:52 AM  & 133.5 & 294.3171 & NA & 47.54 & FALSE & 1.460510e+12\\\\\n",
       "\t 2873212765 & 4/21/2016 11:59:59 PM &  56.7 & 125.0021 & NA & 21.45 &  TRUE & 1.461283e+12\\\\\n",
       "\t 2873212765 & 5/12/2016 11:59:59 PM &  57.3 & 126.3249 & NA & 21.69 &  TRUE & 1.463098e+12\\\\\n",
       "\t 4319703577 & 4/17/2016 11:59:59 PM &  72.4 & 159.6147 & 25 & 27.45 &  TRUE & 1.460938e+12\\\\\n",
       "\t 4319703577 & 5/4/2016 11:59:59 PM  &  72.3 & 159.3942 & NA & 27.38 &  TRUE & 1.462406e+12\\\\\n",
       "\t 4558609924 & 4/18/2016 11:59:59 PM &  69.7 & 153.6622 & NA & 27.25 &  TRUE & 1.461024e+12\\\\\n",
       "\t 4558609924 & 4/25/2016 11:59:59 PM &  70.3 & 154.9850 & NA & 27.46 &  TRUE & 1.461629e+12\\\\\n",
       "\t 4558609924 & 5/1/2016 11:59:59 PM  &  69.9 & 154.1031 & NA & 27.32 &  TRUE & 1.462147e+12\\\\\n",
       "\t 4558609924 & 5/2/2016 11:59:59 PM  &  69.2 & 152.5599 & NA & 27.04 &  TRUE & 1.462234e+12\\\\\n",
       "\t 4558609924 & 5/9/2016 11:59:59 PM  &  69.1 & 152.3394 & NA & 27.00 &  TRUE & 1.462838e+12\\\\\n",
       "\t 5577150313 & 4/17/2016 9:17:55 AM  &  90.7 & 199.9593 & NA & 28.00 & FALSE & 1.460885e+12\\\\\n",
       "\t 6962181067 & 4/12/2016 11:59:59 PM &  62.5 & 137.7889 & NA & 24.39 &  TRUE & 1.460506e+12\\\\\n",
       "\t 6962181067 & 4/13/2016 11:59:59 PM &  62.1 & 136.9071 & NA & 24.24 &  TRUE & 1.460592e+12\\\\\n",
       "\t 6962181067 & 4/14/2016 11:59:59 PM &  61.7 & 136.0252 & NA & 24.10 &  TRUE & 1.460678e+12\\\\\n",
       "\t 6962181067 & 4/15/2016 11:59:59 PM &  61.5 & 135.5843 & NA & 24.00 &  TRUE & 1.460765e+12\\\\\n",
       "\t 6962181067 & 4/16/2016 11:59:59 PM &  62.0 & 136.6866 & NA & 24.21 &  TRUE & 1.460851e+12\\\\\n",
       "\t 6962181067 & 4/17/2016 11:59:59 PM &  61.4 & 135.3638 & NA & 23.96 &  TRUE & 1.460938e+12\\\\\n",
       "\t 6962181067 & 4/18/2016 11:59:59 PM &  61.2 & 134.9229 & NA & 23.89 &  TRUE & 1.461024e+12\\\\\n",
       "\t 6962181067 & 4/19/2016 11:59:59 PM &  61.4 & 135.3638 & NA & 23.96 &  TRUE & 1.461110e+12\\\\\n",
       "\t 6962181067 & 4/20/2016 11:59:59 PM &  61.7 & 136.0252 & NA & 24.10 &  TRUE & 1.461197e+12\\\\\n",
       "\t 6962181067 & 4/21/2016 11:59:59 PM &  61.4 & 135.3638 & NA & 23.96 &  TRUE & 1.461283e+12\\\\\n",
       "\t 6962181067 & 4/22/2016 11:59:59 PM &  61.4 & 135.3638 & NA & 23.96 &  TRUE & 1.461370e+12\\\\\n",
       "\t 6962181067 & 4/23/2016 11:59:59 PM &  61.5 & 135.5843 & NA & 24.00 &  TRUE & 1.461456e+12\\\\\n",
       "\t 6962181067 & 4/24/2016 11:59:59 PM &  61.5 & 135.5843 & NA & 24.00 &  TRUE & 1.461542e+12\\\\\n",
       "\t 6962181067 & 4/25/2016 11:59:59 PM &  61.7 & 136.0252 & NA & 24.10 &  TRUE & 1.461629e+12\\\\\n",
       "\t 6962181067 & 4/27/2016 11:59:59 PM &  61.2 & 134.9229 & NA & 23.89 &  TRUE & 1.461802e+12\\\\\n",
       "\t 6962181067 & 4/28/2016 11:59:59 PM &  61.2 & 134.9229 & NA & 23.89 &  TRUE & 1.461888e+12\\\\\n",
       "\t 6962181067 & 4/29/2016 11:59:59 PM &  61.4 & 135.3638 & NA & 23.96 &  TRUE & 1.461974e+12\\\\\n",
       "\t ⋮ & ⋮ & ⋮ & ⋮ & ⋮ & ⋮ & ⋮ & ⋮\\\\\n",
       "\t 6962181067 & 5/7/2016 11:59:59 PM  & 61.2 & 134.9229 & NA & 23.89 &  TRUE & 1.462666e+12\\\\\n",
       "\t 6962181067 & 5/8/2016 11:59:59 PM  & 61.2 & 134.9229 & NA & 23.89 &  TRUE & 1.462752e+12\\\\\n",
       "\t 6962181067 & 5/9/2016 11:59:59 PM  & 62.4 & 137.5685 & NA & 24.35 &  TRUE & 1.462838e+12\\\\\n",
       "\t 6962181067 & 5/10/2016 11:59:59 PM & 62.1 & 136.9071 & NA & 24.24 &  TRUE & 1.462925e+12\\\\\n",
       "\t 6962181067 & 5/11/2016 11:59:59 PM & 61.9 & 136.4661 & NA & 24.17 &  TRUE & 1.463011e+12\\\\\n",
       "\t 6962181067 & 5/12/2016 11:59:59 PM & 61.9 & 136.4661 & NA & 24.17 &  TRUE & 1.463098e+12\\\\\n",
       "\t 8877689391 & 4/12/2016 6:47:11 AM  & 85.8 & 189.1566 & NA & 25.68 & FALSE & 1.460444e+12\\\\\n",
       "\t 8877689391 & 4/13/2016 6:55:00 AM  & 84.9 & 187.1725 & NA & 25.41 & FALSE & 1.460531e+12\\\\\n",
       "\t 8877689391 & 4/14/2016 6:48:43 AM  & 84.5 & 186.2906 & NA & 25.31 & FALSE & 1.460617e+12\\\\\n",
       "\t 8877689391 & 4/16/2016 1:39:25 PM  & 85.5 & 188.4952 & NA & 25.59 & FALSE & 1.460814e+12\\\\\n",
       "\t 8877689391 & 4/18/2016 6:51:14 AM  & 85.8 & 189.1566 & NA & 25.68 & FALSE & 1.460962e+12\\\\\n",
       "\t 8877689391 & 4/19/2016 6:39:31 AM  & 85.3 & 188.0543 & NA & 25.53 & FALSE & 1.461048e+12\\\\\n",
       "\t 8877689391 & 4/20/2016 6:44:54 AM  & 84.9 & 187.1725 & NA & 25.41 & FALSE & 1.461135e+12\\\\\n",
       "\t 8877689391 & 4/21/2016 6:50:27 AM  & 84.5 & 186.2906 & NA & 25.29 & FALSE & 1.461221e+12\\\\\n",
       "\t 8877689391 & 4/23/2016 7:22:28 AM  & 85.5 & 188.4952 & NA & 25.59 & FALSE & 1.461396e+12\\\\\n",
       "\t 8877689391 & 4/24/2016 7:38:05 AM  & 85.5 & 188.4952 & NA & 25.59 & FALSE & 1.461483e+12\\\\\n",
       "\t 8877689391 & 4/25/2016 6:40:16 AM  & 85.4 & 188.2748 & NA & 25.56 & FALSE & 1.461566e+12\\\\\n",
       "\t 8877689391 & 4/26/2016 6:50:27 AM  & 85.1 & 187.6134 & NA & 25.49 & FALSE & 1.461653e+12\\\\\n",
       "\t 8877689391 & 4/27/2016 6:51:05 AM  & 85.4 & 188.2748 & NA & 25.56 & FALSE & 1.461740e+12\\\\\n",
       "\t 8877689391 & 4/28/2016 6:50:03 AM  & 85.1 & 187.6134 & NA & 25.49 & FALSE & 1.461826e+12\\\\\n",
       "\t 8877689391 & 4/29/2016 6:49:55 AM  & 84.9 & 187.1725 & NA & 25.41 & FALSE & 1.461913e+12\\\\\n",
       "\t 8877689391 & 4/30/2016 7:49:03 AM  & 85.5 & 188.4952 & NA & 25.59 & FALSE & 1.462003e+12\\\\\n",
       "\t 8877689391 & 5/1/2016 8:47:49 AM   & 85.3 & 188.0543 & NA & 25.53 & FALSE & 1.462092e+12\\\\\n",
       "\t 8877689391 & 5/3/2016 6:49:41 AM   & 84.9 & 187.1725 & NA & 25.41 & FALSE & 1.462258e+12\\\\\n",
       "\t 8877689391 & 5/4/2016 6:48:22 AM   & 84.4 & 186.0702 & NA & 25.26 & FALSE & 1.462345e+12\\\\\n",
       "\t 8877689391 & 5/6/2016 6:43:35 AM   & 85.0 & 187.3929 & NA & 25.44 & FALSE & 1.462517e+12\\\\\n",
       "\t 8877689391 & 5/8/2016 7:35:53 AM   & 85.4 & 188.2748 & NA & 25.56 & FALSE & 1.462693e+12\\\\\n",
       "\t 8877689391 & 5/9/2016 6:39:44 AM   & 85.5 & 188.4952 & NA & 25.61 & FALSE & 1.462776e+12\\\\\n",
       "\t 8877689391 & 5/11/2016 6:51:47 AM  & 85.4 & 188.2748 & NA & 25.56 & FALSE & 1.462950e+12\\\\\n",
       "\t 8877689391 & 5/12/2016 6:42:53 AM  & 84.0 & 185.1883 & NA & 25.14 & FALSE & 1.463035e+12\\\\\n",
       "\\end{tabular}\n"
      ],
      "text/markdown": [
       "\n",
       "A spec_tbl_df: 67 × 8\n",
       "\n",
       "| Id &lt;dbl&gt; | Date &lt;chr&gt; | WeightKg &lt;dbl&gt; | WeightPounds &lt;dbl&gt; | Fat &lt;dbl&gt; | BMI &lt;dbl&gt; | IsManualReport &lt;lgl&gt; | LogId &lt;dbl&gt; |\n",
       "|---|---|---|---|---|---|---|---|\n",
       "| 1503960366 | 5/2/2016 11:59:59 PM  |  52.6 | 115.9631 | 22 | 22.65 |  TRUE | 1.462234e+12 |\n",
       "| 1503960366 | 5/3/2016 11:59:59 PM  |  52.6 | 115.9631 | NA | 22.65 |  TRUE | 1.462320e+12 |\n",
       "| 1927972279 | 4/13/2016 1:08:52 AM  | 133.5 | 294.3171 | NA | 47.54 | FALSE | 1.460510e+12 |\n",
       "| 2873212765 | 4/21/2016 11:59:59 PM |  56.7 | 125.0021 | NA | 21.45 |  TRUE | 1.461283e+12 |\n",
       "| 2873212765 | 5/12/2016 11:59:59 PM |  57.3 | 126.3249 | NA | 21.69 |  TRUE | 1.463098e+12 |\n",
       "| 4319703577 | 4/17/2016 11:59:59 PM |  72.4 | 159.6147 | 25 | 27.45 |  TRUE | 1.460938e+12 |\n",
       "| 4319703577 | 5/4/2016 11:59:59 PM  |  72.3 | 159.3942 | NA | 27.38 |  TRUE | 1.462406e+12 |\n",
       "| 4558609924 | 4/18/2016 11:59:59 PM |  69.7 | 153.6622 | NA | 27.25 |  TRUE | 1.461024e+12 |\n",
       "| 4558609924 | 4/25/2016 11:59:59 PM |  70.3 | 154.9850 | NA | 27.46 |  TRUE | 1.461629e+12 |\n",
       "| 4558609924 | 5/1/2016 11:59:59 PM  |  69.9 | 154.1031 | NA | 27.32 |  TRUE | 1.462147e+12 |\n",
       "| 4558609924 | 5/2/2016 11:59:59 PM  |  69.2 | 152.5599 | NA | 27.04 |  TRUE | 1.462234e+12 |\n",
       "| 4558609924 | 5/9/2016 11:59:59 PM  |  69.1 | 152.3394 | NA | 27.00 |  TRUE | 1.462838e+12 |\n",
       "| 5577150313 | 4/17/2016 9:17:55 AM  |  90.7 | 199.9593 | NA | 28.00 | FALSE | 1.460885e+12 |\n",
       "| 6962181067 | 4/12/2016 11:59:59 PM |  62.5 | 137.7889 | NA | 24.39 |  TRUE | 1.460506e+12 |\n",
       "| 6962181067 | 4/13/2016 11:59:59 PM |  62.1 | 136.9071 | NA | 24.24 |  TRUE | 1.460592e+12 |\n",
       "| 6962181067 | 4/14/2016 11:59:59 PM |  61.7 | 136.0252 | NA | 24.10 |  TRUE | 1.460678e+12 |\n",
       "| 6962181067 | 4/15/2016 11:59:59 PM |  61.5 | 135.5843 | NA | 24.00 |  TRUE | 1.460765e+12 |\n",
       "| 6962181067 | 4/16/2016 11:59:59 PM |  62.0 | 136.6866 | NA | 24.21 |  TRUE | 1.460851e+12 |\n",
       "| 6962181067 | 4/17/2016 11:59:59 PM |  61.4 | 135.3638 | NA | 23.96 |  TRUE | 1.460938e+12 |\n",
       "| 6962181067 | 4/18/2016 11:59:59 PM |  61.2 | 134.9229 | NA | 23.89 |  TRUE | 1.461024e+12 |\n",
       "| 6962181067 | 4/19/2016 11:59:59 PM |  61.4 | 135.3638 | NA | 23.96 |  TRUE | 1.461110e+12 |\n",
       "| 6962181067 | 4/20/2016 11:59:59 PM |  61.7 | 136.0252 | NA | 24.10 |  TRUE | 1.461197e+12 |\n",
       "| 6962181067 | 4/21/2016 11:59:59 PM |  61.4 | 135.3638 | NA | 23.96 |  TRUE | 1.461283e+12 |\n",
       "| 6962181067 | 4/22/2016 11:59:59 PM |  61.4 | 135.3638 | NA | 23.96 |  TRUE | 1.461370e+12 |\n",
       "| 6962181067 | 4/23/2016 11:59:59 PM |  61.5 | 135.5843 | NA | 24.00 |  TRUE | 1.461456e+12 |\n",
       "| 6962181067 | 4/24/2016 11:59:59 PM |  61.5 | 135.5843 | NA | 24.00 |  TRUE | 1.461542e+12 |\n",
       "| 6962181067 | 4/25/2016 11:59:59 PM |  61.7 | 136.0252 | NA | 24.10 |  TRUE | 1.461629e+12 |\n",
       "| 6962181067 | 4/27/2016 11:59:59 PM |  61.2 | 134.9229 | NA | 23.89 |  TRUE | 1.461802e+12 |\n",
       "| 6962181067 | 4/28/2016 11:59:59 PM |  61.2 | 134.9229 | NA | 23.89 |  TRUE | 1.461888e+12 |\n",
       "| 6962181067 | 4/29/2016 11:59:59 PM |  61.4 | 135.3638 | NA | 23.96 |  TRUE | 1.461974e+12 |\n",
       "| ⋮ | ⋮ | ⋮ | ⋮ | ⋮ | ⋮ | ⋮ | ⋮ |\n",
       "| 6962181067 | 5/7/2016 11:59:59 PM  | 61.2 | 134.9229 | NA | 23.89 |  TRUE | 1.462666e+12 |\n",
       "| 6962181067 | 5/8/2016 11:59:59 PM  | 61.2 | 134.9229 | NA | 23.89 |  TRUE | 1.462752e+12 |\n",
       "| 6962181067 | 5/9/2016 11:59:59 PM  | 62.4 | 137.5685 | NA | 24.35 |  TRUE | 1.462838e+12 |\n",
       "| 6962181067 | 5/10/2016 11:59:59 PM | 62.1 | 136.9071 | NA | 24.24 |  TRUE | 1.462925e+12 |\n",
       "| 6962181067 | 5/11/2016 11:59:59 PM | 61.9 | 136.4661 | NA | 24.17 |  TRUE | 1.463011e+12 |\n",
       "| 6962181067 | 5/12/2016 11:59:59 PM | 61.9 | 136.4661 | NA | 24.17 |  TRUE | 1.463098e+12 |\n",
       "| 8877689391 | 4/12/2016 6:47:11 AM  | 85.8 | 189.1566 | NA | 25.68 | FALSE | 1.460444e+12 |\n",
       "| 8877689391 | 4/13/2016 6:55:00 AM  | 84.9 | 187.1725 | NA | 25.41 | FALSE | 1.460531e+12 |\n",
       "| 8877689391 | 4/14/2016 6:48:43 AM  | 84.5 | 186.2906 | NA | 25.31 | FALSE | 1.460617e+12 |\n",
       "| 8877689391 | 4/16/2016 1:39:25 PM  | 85.5 | 188.4952 | NA | 25.59 | FALSE | 1.460814e+12 |\n",
       "| 8877689391 | 4/18/2016 6:51:14 AM  | 85.8 | 189.1566 | NA | 25.68 | FALSE | 1.460962e+12 |\n",
       "| 8877689391 | 4/19/2016 6:39:31 AM  | 85.3 | 188.0543 | NA | 25.53 | FALSE | 1.461048e+12 |\n",
       "| 8877689391 | 4/20/2016 6:44:54 AM  | 84.9 | 187.1725 | NA | 25.41 | FALSE | 1.461135e+12 |\n",
       "| 8877689391 | 4/21/2016 6:50:27 AM  | 84.5 | 186.2906 | NA | 25.29 | FALSE | 1.461221e+12 |\n",
       "| 8877689391 | 4/23/2016 7:22:28 AM  | 85.5 | 188.4952 | NA | 25.59 | FALSE | 1.461396e+12 |\n",
       "| 8877689391 | 4/24/2016 7:38:05 AM  | 85.5 | 188.4952 | NA | 25.59 | FALSE | 1.461483e+12 |\n",
       "| 8877689391 | 4/25/2016 6:40:16 AM  | 85.4 | 188.2748 | NA | 25.56 | FALSE | 1.461566e+12 |\n",
       "| 8877689391 | 4/26/2016 6:50:27 AM  | 85.1 | 187.6134 | NA | 25.49 | FALSE | 1.461653e+12 |\n",
       "| 8877689391 | 4/27/2016 6:51:05 AM  | 85.4 | 188.2748 | NA | 25.56 | FALSE | 1.461740e+12 |\n",
       "| 8877689391 | 4/28/2016 6:50:03 AM  | 85.1 | 187.6134 | NA | 25.49 | FALSE | 1.461826e+12 |\n",
       "| 8877689391 | 4/29/2016 6:49:55 AM  | 84.9 | 187.1725 | NA | 25.41 | FALSE | 1.461913e+12 |\n",
       "| 8877689391 | 4/30/2016 7:49:03 AM  | 85.5 | 188.4952 | NA | 25.59 | FALSE | 1.462003e+12 |\n",
       "| 8877689391 | 5/1/2016 8:47:49 AM   | 85.3 | 188.0543 | NA | 25.53 | FALSE | 1.462092e+12 |\n",
       "| 8877689391 | 5/3/2016 6:49:41 AM   | 84.9 | 187.1725 | NA | 25.41 | FALSE | 1.462258e+12 |\n",
       "| 8877689391 | 5/4/2016 6:48:22 AM   | 84.4 | 186.0702 | NA | 25.26 | FALSE | 1.462345e+12 |\n",
       "| 8877689391 | 5/6/2016 6:43:35 AM   | 85.0 | 187.3929 | NA | 25.44 | FALSE | 1.462517e+12 |\n",
       "| 8877689391 | 5/8/2016 7:35:53 AM   | 85.4 | 188.2748 | NA | 25.56 | FALSE | 1.462693e+12 |\n",
       "| 8877689391 | 5/9/2016 6:39:44 AM   | 85.5 | 188.4952 | NA | 25.61 | FALSE | 1.462776e+12 |\n",
       "| 8877689391 | 5/11/2016 6:51:47 AM  | 85.4 | 188.2748 | NA | 25.56 | FALSE | 1.462950e+12 |\n",
       "| 8877689391 | 5/12/2016 6:42:53 AM  | 84.0 | 185.1883 | NA | 25.14 | FALSE | 1.463035e+12 |\n",
       "\n"
      ],
      "text/plain": [
       "   Id         Date                  WeightKg WeightPounds Fat BMI  \n",
       "1  1503960366 5/2/2016 11:59:59 PM   52.6    115.9631     22  22.65\n",
       "2  1503960366 5/3/2016 11:59:59 PM   52.6    115.9631     NA  22.65\n",
       "3  1927972279 4/13/2016 1:08:52 AM  133.5    294.3171     NA  47.54\n",
       "4  2873212765 4/21/2016 11:59:59 PM  56.7    125.0021     NA  21.45\n",
       "5  2873212765 5/12/2016 11:59:59 PM  57.3    126.3249     NA  21.69\n",
       "6  4319703577 4/17/2016 11:59:59 PM  72.4    159.6147     25  27.45\n",
       "7  4319703577 5/4/2016 11:59:59 PM   72.3    159.3942     NA  27.38\n",
       "8  4558609924 4/18/2016 11:59:59 PM  69.7    153.6622     NA  27.25\n",
       "9  4558609924 4/25/2016 11:59:59 PM  70.3    154.9850     NA  27.46\n",
       "10 4558609924 5/1/2016 11:59:59 PM   69.9    154.1031     NA  27.32\n",
       "11 4558609924 5/2/2016 11:59:59 PM   69.2    152.5599     NA  27.04\n",
       "12 4558609924 5/9/2016 11:59:59 PM   69.1    152.3394     NA  27.00\n",
       "13 5577150313 4/17/2016 9:17:55 AM   90.7    199.9593     NA  28.00\n",
       "14 6962181067 4/12/2016 11:59:59 PM  62.5    137.7889     NA  24.39\n",
       "15 6962181067 4/13/2016 11:59:59 PM  62.1    136.9071     NA  24.24\n",
       "16 6962181067 4/14/2016 11:59:59 PM  61.7    136.0252     NA  24.10\n",
       "17 6962181067 4/15/2016 11:59:59 PM  61.5    135.5843     NA  24.00\n",
       "18 6962181067 4/16/2016 11:59:59 PM  62.0    136.6866     NA  24.21\n",
       "19 6962181067 4/17/2016 11:59:59 PM  61.4    135.3638     NA  23.96\n",
       "20 6962181067 4/18/2016 11:59:59 PM  61.2    134.9229     NA  23.89\n",
       "21 6962181067 4/19/2016 11:59:59 PM  61.4    135.3638     NA  23.96\n",
       "22 6962181067 4/20/2016 11:59:59 PM  61.7    136.0252     NA  24.10\n",
       "23 6962181067 4/21/2016 11:59:59 PM  61.4    135.3638     NA  23.96\n",
       "24 6962181067 4/22/2016 11:59:59 PM  61.4    135.3638     NA  23.96\n",
       "25 6962181067 4/23/2016 11:59:59 PM  61.5    135.5843     NA  24.00\n",
       "26 6962181067 4/24/2016 11:59:59 PM  61.5    135.5843     NA  24.00\n",
       "27 6962181067 4/25/2016 11:59:59 PM  61.7    136.0252     NA  24.10\n",
       "28 6962181067 4/27/2016 11:59:59 PM  61.2    134.9229     NA  23.89\n",
       "29 6962181067 4/28/2016 11:59:59 PM  61.2    134.9229     NA  23.89\n",
       "30 6962181067 4/29/2016 11:59:59 PM  61.4    135.3638     NA  23.96\n",
       "⋮  ⋮          ⋮                     ⋮        ⋮            ⋮   ⋮    \n",
       "38 6962181067 5/7/2016 11:59:59 PM  61.2     134.9229     NA  23.89\n",
       "39 6962181067 5/8/2016 11:59:59 PM  61.2     134.9229     NA  23.89\n",
       "40 6962181067 5/9/2016 11:59:59 PM  62.4     137.5685     NA  24.35\n",
       "41 6962181067 5/10/2016 11:59:59 PM 62.1     136.9071     NA  24.24\n",
       "42 6962181067 5/11/2016 11:59:59 PM 61.9     136.4661     NA  24.17\n",
       "43 6962181067 5/12/2016 11:59:59 PM 61.9     136.4661     NA  24.17\n",
       "44 8877689391 4/12/2016 6:47:11 AM  85.8     189.1566     NA  25.68\n",
       "45 8877689391 4/13/2016 6:55:00 AM  84.9     187.1725     NA  25.41\n",
       "46 8877689391 4/14/2016 6:48:43 AM  84.5     186.2906     NA  25.31\n",
       "47 8877689391 4/16/2016 1:39:25 PM  85.5     188.4952     NA  25.59\n",
       "48 8877689391 4/18/2016 6:51:14 AM  85.8     189.1566     NA  25.68\n",
       "49 8877689391 4/19/2016 6:39:31 AM  85.3     188.0543     NA  25.53\n",
       "50 8877689391 4/20/2016 6:44:54 AM  84.9     187.1725     NA  25.41\n",
       "51 8877689391 4/21/2016 6:50:27 AM  84.5     186.2906     NA  25.29\n",
       "52 8877689391 4/23/2016 7:22:28 AM  85.5     188.4952     NA  25.59\n",
       "53 8877689391 4/24/2016 7:38:05 AM  85.5     188.4952     NA  25.59\n",
       "54 8877689391 4/25/2016 6:40:16 AM  85.4     188.2748     NA  25.56\n",
       "55 8877689391 4/26/2016 6:50:27 AM  85.1     187.6134     NA  25.49\n",
       "56 8877689391 4/27/2016 6:51:05 AM  85.4     188.2748     NA  25.56\n",
       "57 8877689391 4/28/2016 6:50:03 AM  85.1     187.6134     NA  25.49\n",
       "58 8877689391 4/29/2016 6:49:55 AM  84.9     187.1725     NA  25.41\n",
       "59 8877689391 4/30/2016 7:49:03 AM  85.5     188.4952     NA  25.59\n",
       "60 8877689391 5/1/2016 8:47:49 AM   85.3     188.0543     NA  25.53\n",
       "61 8877689391 5/3/2016 6:49:41 AM   84.9     187.1725     NA  25.41\n",
       "62 8877689391 5/4/2016 6:48:22 AM   84.4     186.0702     NA  25.26\n",
       "63 8877689391 5/6/2016 6:43:35 AM   85.0     187.3929     NA  25.44\n",
       "64 8877689391 5/8/2016 7:35:53 AM   85.4     188.2748     NA  25.56\n",
       "65 8877689391 5/9/2016 6:39:44 AM   85.5     188.4952     NA  25.61\n",
       "66 8877689391 5/11/2016 6:51:47 AM  85.4     188.2748     NA  25.56\n",
       "67 8877689391 5/12/2016 6:42:53 AM  84.0     185.1883     NA  25.14\n",
       "   IsManualReport LogId       \n",
       "1   TRUE          1.462234e+12\n",
       "2   TRUE          1.462320e+12\n",
       "3  FALSE          1.460510e+12\n",
       "4   TRUE          1.461283e+12\n",
       "5   TRUE          1.463098e+12\n",
       "6   TRUE          1.460938e+12\n",
       "7   TRUE          1.462406e+12\n",
       "8   TRUE          1.461024e+12\n",
       "9   TRUE          1.461629e+12\n",
       "10  TRUE          1.462147e+12\n",
       "11  TRUE          1.462234e+12\n",
       "12  TRUE          1.462838e+12\n",
       "13 FALSE          1.460885e+12\n",
       "14  TRUE          1.460506e+12\n",
       "15  TRUE          1.460592e+12\n",
       "16  TRUE          1.460678e+12\n",
       "17  TRUE          1.460765e+12\n",
       "18  TRUE          1.460851e+12\n",
       "19  TRUE          1.460938e+12\n",
       "20  TRUE          1.461024e+12\n",
       "21  TRUE          1.461110e+12\n",
       "22  TRUE          1.461197e+12\n",
       "23  TRUE          1.461283e+12\n",
       "24  TRUE          1.461370e+12\n",
       "25  TRUE          1.461456e+12\n",
       "26  TRUE          1.461542e+12\n",
       "27  TRUE          1.461629e+12\n",
       "28  TRUE          1.461802e+12\n",
       "29  TRUE          1.461888e+12\n",
       "30  TRUE          1.461974e+12\n",
       "⋮  ⋮              ⋮           \n",
       "38  TRUE          1.462666e+12\n",
       "39  TRUE          1.462752e+12\n",
       "40  TRUE          1.462838e+12\n",
       "41  TRUE          1.462925e+12\n",
       "42  TRUE          1.463011e+12\n",
       "43  TRUE          1.463098e+12\n",
       "44 FALSE          1.460444e+12\n",
       "45 FALSE          1.460531e+12\n",
       "46 FALSE          1.460617e+12\n",
       "47 FALSE          1.460814e+12\n",
       "48 FALSE          1.460962e+12\n",
       "49 FALSE          1.461048e+12\n",
       "50 FALSE          1.461135e+12\n",
       "51 FALSE          1.461221e+12\n",
       "52 FALSE          1.461396e+12\n",
       "53 FALSE          1.461483e+12\n",
       "54 FALSE          1.461566e+12\n",
       "55 FALSE          1.461653e+12\n",
       "56 FALSE          1.461740e+12\n",
       "57 FALSE          1.461826e+12\n",
       "58 FALSE          1.461913e+12\n",
       "59 FALSE          1.462003e+12\n",
       "60 FALSE          1.462092e+12\n",
       "61 FALSE          1.462258e+12\n",
       "62 FALSE          1.462345e+12\n",
       "63 FALSE          1.462517e+12\n",
       "64 FALSE          1.462693e+12\n",
       "65 FALSE          1.462776e+12\n",
       "66 FALSE          1.462950e+12\n",
       "67 FALSE          1.463035e+12"
      ]
     },
     "metadata": {},
     "output_type": "display_data"
    }
   ],
   "source": [
    "missingValues <- weight_log[which(is.na(weight_log)), ]\n",
    "View(weight_log)"
   ]
  },
  {
   "cell_type": "code",
   "execution_count": 64,
   "id": "1ac97dc5",
   "metadata": {},
   "outputs": [],
   "source": [
    "weight_log <- weight_log[, -which(names(weight_log) == \"Fat\")]"
   ]
  },
  {
   "cell_type": "markdown",
   "id": "44f808b7",
   "metadata": {},
   "source": [
    "Now our data is clean"
   ]
  },
  {
   "cell_type": "code",
   "execution_count": 65,
   "id": "e4be00cd",
   "metadata": {},
   "outputs": [],
   "source": [
    "rm(missingValues)\n",
    "rm(duplicates)"
   ]
  },
  {
   "cell_type": "markdown",
   "id": "e6344163",
   "metadata": {},
   "source": [
    "## <span style=\"color:#6B8E23\"> Process - Step 3: Perform data analysis procedures </span>\n",
    "\n",
    "\n",
    "Since our goal is to essentially give broad strokes data about the Bellabeats users, we want to mainly focus on daily data, specifically the \"dailyActivity_merged\" file, as our nexus. \"dailyActivity_merged\" has all the \"daily\" sheet-titled columns already merged into it, simplifying the process and giving us a clear starting point.\n",
    "\n",
    "\n",
    "Other sheets that can be useful here are:\n",
    "\n",
    "* heartrate_seconds_merged: However, all we will be using this for is a summary(). The heart rate sheet has good data but was only used by 14 of the 33 participants in the study, leaving it with subpar data.\n",
    "\n",
    "* sleepDay_merged: However, a column needs to be created to allow proper plotting later on.\n",
    "\n",
    "* weight_log: However, all we will be using this for is a summary(). The weight sheet has poor data, inconsistent times of measurement, and, most importantly, is only used by 8 of the 33 volunteers sharing their data, leaving it with subpar data.\n",
    "\n"
   ]
  },
  {
   "cell_type": "code",
   "execution_count": 66,
   "id": "45664719",
   "metadata": {},
   "outputs": [
    {
     "data": {
      "text/plain": [
       "   TotalSteps    TotalDistance    SedentaryMinutes\n",
       " Min.   :    0   Min.   : 0.000   Min.   :   0.0  \n",
       " 1st Qu.: 3790   1st Qu.: 2.620   1st Qu.: 729.8  \n",
       " Median : 7406   Median : 5.245   Median :1057.5  \n",
       " Mean   : 7638   Mean   : 5.490   Mean   : 991.2  \n",
       " 3rd Qu.:10727   3rd Qu.: 7.713   3rd Qu.:1229.5  \n",
       " Max.   :36019   Max.   :28.030   Max.   :1440.0  "
      ]
     },
     "metadata": {},
     "output_type": "display_data"
    }
   ],
   "source": [
    "daily_activity %>%  \n",
    "  select(TotalSteps,\n",
    "         TotalDistance,\n",
    "         SedentaryMinutes) %>%\n",
    "  summary()"
   ]
  },
  {
   "cell_type": "code",
   "execution_count": 67,
   "id": "1836a3c2",
   "metadata": {},
   "outputs": [
    {
     "data": {
      "text/plain": [
       " VeryActiveMinutes FairlyActiveMinutes LightlyActiveMinutes\n",
       " Min.   :  0.00    Min.   :  0.00      Min.   :  0.0       \n",
       " 1st Qu.:  0.00    1st Qu.:  0.00      1st Qu.:127.0       \n",
       " Median :  4.00    Median :  6.00      Median :199.0       \n",
       " Mean   : 21.16    Mean   : 13.56      Mean   :192.8       \n",
       " 3rd Qu.: 32.00    3rd Qu.: 19.00      3rd Qu.:264.0       \n",
       " Max.   :210.00    Max.   :143.00      Max.   :518.0       "
      ]
     },
     "metadata": {},
     "output_type": "display_data"
    }
   ],
   "source": [
    "daily_activity%>%\n",
    "  select(VeryActiveMinutes, FairlyActiveMinutes, LightlyActiveMinutes) %>%\n",
    "  summary()"
   ]
  },
  {
   "cell_type": "code",
   "execution_count": 68,
   "id": "de0a0e9b",
   "metadata": {},
   "outputs": [
    {
     "data": {
      "text/plain": [
       "    Calories   \n",
       " Min.   :   0  \n",
       " 1st Qu.:1828  \n",
       " Median :2134  \n",
       " Mean   :2304  \n",
       " 3rd Qu.:2793  \n",
       " Max.   :4900  "
      ]
     },
     "metadata": {},
     "output_type": "display_data"
    }
   ],
   "source": [
    "daily_activity %>%  \n",
    "  select(Calories) %>%\n",
    "  summary()"
   ]
  },
  {
   "cell_type": "code",
   "execution_count": 69,
   "id": "0f3187de",
   "metadata": {},
   "outputs": [
    {
     "data": {
      "text/plain": [
       " TotalMinutesAsleep TotalTimeInBed  TotalSleepRecords\n",
       " Min.   : 58.0      Min.   : 61.0   Min.   :1.00     \n",
       " 1st Qu.:361.0      1st Qu.:403.8   1st Qu.:1.00     \n",
       " Median :432.5      Median :463.0   Median :1.00     \n",
       " Mean   :419.2      Mean   :458.5   Mean   :1.12     \n",
       " 3rd Qu.:490.0      3rd Qu.:526.0   3rd Qu.:1.00     \n",
       " Max.   :796.0      Max.   :961.0   Max.   :3.00     "
      ]
     },
     "metadata": {},
     "output_type": "display_data"
    }
   ],
   "source": [
    "daily_sleep %>%\n",
    "  select(TotalMinutesAsleep, TotalTimeInBed, TotalSleepRecords) %>%\n",
    "  summary()"
   ]
  },
  {
   "cell_type": "code",
   "execution_count": 70,
   "id": "0739d932",
   "metadata": {},
   "outputs": [
    {
     "data": {
      "text/plain": [
       "  WeightPounds        BMI       \n",
       " Min.   :116.0   Min.   :21.45  \n",
       " 1st Qu.:135.4   1st Qu.:23.96  \n",
       " Median :137.8   Median :24.39  \n",
       " Mean   :158.8   Mean   :25.19  \n",
       " 3rd Qu.:187.5   3rd Qu.:25.56  \n",
       " Max.   :294.3   Max.   :47.54  "
      ]
     },
     "metadata": {},
     "output_type": "display_data"
    }
   ],
   "source": [
    "weight_log  %>%\n",
    "  select(WeightPounds, BMI) %>%\n",
    "  summary()"
   ]
  },
  {
   "cell_type": "code",
   "execution_count": 71,
   "id": "8e96e477",
   "metadata": {},
   "outputs": [
    {
     "data": {
      "text/plain": [
       "     Value       \n",
       " Min.   : 36.00  \n",
       " 1st Qu.: 63.00  \n",
       " Median : 73.00  \n",
       " Mean   : 77.33  \n",
       " 3rd Qu.: 88.00  \n",
       " Max.   :203.00  "
      ]
     },
     "metadata": {},
     "output_type": "display_data"
    }
   ],
   "source": [
    "heartrate %>%\n",
    "  select(Value) %>%\n",
    "  summary()"
   ]
  },
  {
   "cell_type": "markdown",
   "id": "60971e6a",
   "metadata": {},
   "source": [
    "## <span style=\"color:#6B8E23\"> Analyze - Step 4: Analysis time </span>\n",
    "\n",
    "\n",
    "My predictions based on current analysis:\n",
    "\n",
    "  * People will get most rest on the weekends\n",
    "  * The week days will contain the most amount of steps\n",
    "  * The more activity the more calories people will consume\n",
    "  * The more time in bed the more sleep will be accomplished\n",
    "  * The more steps someone takes the better their rest will be\n",
    "  * The more steps people take the more calories people will consume\n",
    "  * Users will be sedentary the vast majority of their day"
   ]
  },
  {
   "cell_type": "markdown",
   "id": "33b2a308",
   "metadata": {},
   "source": [
    "## <span style=\"color:#6B8E23\"> Share - Step 5: Data viz time </span>\n"
   ]
  },
  {
   "cell_type": "markdown",
   "id": "3ab7fae2",
   "metadata": {},
   "source": [
    "### <span style=\"color:#6B8E23\"> Daily Sleep Plot </span>"
   ]
  },
  {
   "cell_type": "code",
   "execution_count": 72,
   "id": "1afa5e3c",
   "metadata": {},
   "outputs": [
    {
     "data": {
      "image/png": "[encoded data removed]",
      "text/plain": [
       "plot without title"
      ]
     },
     "metadata": {
      "image/png": {
       "height": 420,
       "width": 420
      }
     },
     "output_type": "display_data"
    }
   ],
   "source": [
    "\n",
    "# Making a day_of_week column inside daily_sleep for plots\n",
    "daily_sleep <- daily_sleep %>%\n",
    "  mutate(day_of_week = weekdays(as.Date(SleepDay, format = \"%m/%d/%Y\")))\n",
    "\n",
    "\n",
    "# Creating a new tibble out of daily_sleep to work with exclusively for one plot\n",
    "daily_sleep_avg <- daily_sleep %>%\n",
    "  group_by(day_of_week) %>%\n",
    "  summarize(avg_minutes_asleep = mean(TotalMinutesAsleep))\n",
    "\n",
    "\n",
    "# Ordering day_of_week in the desired order\n",
    "daily_sleep_avg$day_of_week <- factor(daily_sleep_avg$day_of_week, levels = c(\n",
    "  \"Sunday\", \"Monday\", \"Tuesday\", \"Wednesday\", \"Thursday\", \"Friday\", \"Saturday\"))\n",
    "\n",
    "\n",
    "# The plot with a legend\n",
    "ggplot(data = daily_sleep_avg, aes(x = day_of_week, y = avg_minutes_asleep)) +\n",
    "  geom_col(fill = \"#A18CD1\") +\n",
    "  geom_hline(aes(yintercept = mean(daily_sleep$TotalMinutesAsleep), color = \"7.05\"), linetype = \"dashed\") +\n",
    "  geom_text(aes(label = sprintf(\"%.2f\", avg_minutes_asleep/60)), vjust = -0.5, color = \"black\") +\n",
    "  labs(title = \"Average hours of sleep per day\", x = \"\", y = \"Total Hours Asleep\") +\n",
    "  scale_y_continuous(breaks = seq(0, ceiling(max(daily_sleep_avg$avg_minutes_asleep)), 120),\n",
    "                     labels = function(x) paste0(x / 60, \" \")) +\n",
    "  guides(color = guide_legend(title = \"Weekly Average:\"))"
   ]
  },
  {
   "cell_type": "markdown",
   "id": "914693ac",
   "metadata": {},
   "source": [
    "* The average total sleep is 7.05 hours"
   ]
  },
  {
   "cell_type": "code",
   "execution_count": 73,
   "id": "a91f86a9",
   "metadata": {},
   "outputs": [
    {
     "data": {
      "text/html": [
       "<table class=\"dataframe\">\n",
       "<caption>A tibble: 7 × 2</caption>\n",
       "<thead>\n",
       "\t<tr><th scope=col>day_of_week</th><th scope=col>avg_hours_asleep</th></tr>\n",
       "\t<tr><th scope=col>&lt;fct&gt;</th><th scope=col>&lt;dbl&gt;</th></tr>\n",
       "</thead>\n",
       "<tbody>\n",
       "\t<tr><td>Sunday   </td><td>7.55</td></tr>\n",
       "\t<tr><td>Wednesday</td><td>7.24</td></tr>\n",
       "\t<tr><td>Monday   </td><td>6.99</td></tr>\n",
       "\t<tr><td>Saturday </td><td>6.98</td></tr>\n",
       "\t<tr><td>Friday   </td><td>6.76</td></tr>\n",
       "\t<tr><td>Tuesday  </td><td>6.74</td></tr>\n",
       "\t<tr><td>Thursday </td><td>6.69</td></tr>\n",
       "</tbody>\n",
       "</table>\n"
      ],
      "text/latex": [
       "A tibble: 7 × 2\n",
       "\\begin{tabular}{ll}\n",
       " day\\_of\\_week & avg\\_hours\\_asleep\\\\\n",
       " <fct> & <dbl>\\\\\n",
       "\\hline\n",
       "\t Sunday    & 7.55\\\\\n",
       "\t Wednesday & 7.24\\\\\n",
       "\t Monday    & 6.99\\\\\n",
       "\t Saturday  & 6.98\\\\\n",
       "\t Friday    & 6.76\\\\\n",
       "\t Tuesday   & 6.74\\\\\n",
       "\t Thursday  & 6.69\\\\\n",
       "\\end{tabular}\n"
      ],
      "text/markdown": [
       "\n",
       "A tibble: 7 × 2\n",
       "\n",
       "| day_of_week &lt;fct&gt; | avg_hours_asleep &lt;dbl&gt; |\n",
       "|---|---|\n",
       "| Sunday    | 7.55 |\n",
       "| Wednesday | 7.24 |\n",
       "| Monday    | 6.99 |\n",
       "| Saturday  | 6.98 |\n",
       "| Friday    | 6.76 |\n",
       "| Tuesday   | 6.74 |\n",
       "| Thursday  | 6.69 |\n",
       "\n"
      ],
      "text/plain": [
       "  day_of_week avg_hours_asleep\n",
       "1 Sunday      7.55            \n",
       "2 Wednesday   7.24            \n",
       "3 Monday      6.99            \n",
       "4 Saturday    6.98            \n",
       "5 Friday      6.76            \n",
       "6 Tuesday     6.74            \n",
       "7 Thursday    6.69            "
      ]
     },
     "metadata": {},
     "output_type": "display_data"
    }
   ],
   "source": [
    "# Showing the average daily sleep in DESC order in hours\n",
    "head(select(arrange(mutate(daily_sleep_avg, \n",
    "                           avg_hours_asleep = round(avg_minutes_asleep / 60, 2)), \n",
    "                    desc(avg_hours_asleep)), day_of_week, avg_hours_asleep), 7)"
   ]
  },
  {
   "cell_type": "markdown",
   "id": "2d535e8f",
   "metadata": {},
   "source": [
    "### <span style=\"color:#6B8E23\"> Daily Steps Plot </span>"
   ]
  },
  {
   "cell_type": "code",
   "execution_count": 75,
   "id": "b9936edc",
   "metadata": {},
   "outputs": [
    {
     "data": {
      "image/png": "[encoded data removed]",
      "text/plain": [
       "plot without title"
      ]
     },
     "metadata": {
      "image/png": {
       "height": 420,
       "width": 420
      }
     },
     "output_type": "display_data"
    }
   ],
   "source": [
    "# Making a day_of_week column inside daily_activity for plots\n",
    "daily_activity <- daily_activity %>%\n",
    "  mutate(day_of_week = weekdays(as.Date(ActivityDate, format = \"%m/%d/%Y\")))\n",
    "\n",
    "\n",
    "# Reordering day_of_week in the desired order\n",
    "daily_activity$day_of_week <- factor(daily_activity$day_of_week, levels = c(\n",
    "  \"Sunday\", \"Monday\", \"Tuesday\", \"Wednesday\", \"Thursday\", \"Friday\", \"Saturday\"))\n",
    "\n",
    "\n",
    "# Creating a new tibble out of daily_activity to work for one plot\n",
    "daily_activity_avg <- daily_activity %>%\n",
    "  group_by(day_of_week) %>%\n",
    "  summarize(avg_steps = mean(TotalSteps))\n",
    "\n",
    "\n",
    "\n",
    "# Daily activity avg plot with a legend \n",
    "ggplot(data = daily_activity_avg, aes(x = day_of_week, y = avg_steps)) +\n",
    "  geom_col(fill = \"#065535\") +\n",
    "  geom_hline(aes(yintercept = mean(daily_activity$TotalSteps), color = \"7608\"), linetype = \"dashed\", show.legend = TRUE) +\n",
    "  geom_text(aes(label = round(avg_steps)), vjust = -0.5, color = \"black\") +\n",
    "  labs(title = \"Average amount of steps per day\", x = \"\", y = \"Steps\") +\n",
    "  scale_color_manual(values = \"orange\") +\n",
    "  guides(color = guide_legend(title = \"Weekly Average:\"))"
   ]
  },
  {
   "cell_type": "markdown",
   "id": "00f47853",
   "metadata": {},
   "source": [
    "* The avg total steps is 7608.43"
   ]
  },
  {
   "cell_type": "code",
   "execution_count": 76,
   "id": "0ff3aea7",
   "metadata": {},
   "outputs": [
    {
     "data": {
      "text/html": [
       "<table class=\"dataframe\">\n",
       "<caption>A tibble: 7 × 2</caption>\n",
       "<thead>\n",
       "\t<tr><th scope=col>day_of_week</th><th scope=col>avg_steps</th></tr>\n",
       "\t<tr><th scope=col>&lt;fct&gt;</th><th scope=col>&lt;dbl&gt;</th></tr>\n",
       "</thead>\n",
       "<tbody>\n",
       "\t<tr><td>Saturday </td><td>8152.976</td></tr>\n",
       "\t<tr><td>Friday   </td><td>7448.230</td></tr>\n",
       "\t<tr><td>Thursday </td><td>7405.837</td></tr>\n",
       "\t<tr><td>Wednesday</td><td>7559.373</td></tr>\n",
       "\t<tr><td>Tuesday  </td><td>8125.007</td></tr>\n",
       "\t<tr><td>Monday   </td><td>7780.867</td></tr>\n",
       "\t<tr><td>Sunday   </td><td>6933.231</td></tr>\n",
       "</tbody>\n",
       "</table>\n"
      ],
      "text/latex": [
       "A tibble: 7 × 2\n",
       "\\begin{tabular}{ll}\n",
       " day\\_of\\_week & avg\\_steps\\\\\n",
       " <fct> & <dbl>\\\\\n",
       "\\hline\n",
       "\t Saturday  & 8152.976\\\\\n",
       "\t Friday    & 7448.230\\\\\n",
       "\t Thursday  & 7405.837\\\\\n",
       "\t Wednesday & 7559.373\\\\\n",
       "\t Tuesday   & 8125.007\\\\\n",
       "\t Monday    & 7780.867\\\\\n",
       "\t Sunday    & 6933.231\\\\\n",
       "\\end{tabular}\n"
      ],
      "text/markdown": [
       "\n",
       "A tibble: 7 × 2\n",
       "\n",
       "| day_of_week &lt;fct&gt; | avg_steps &lt;dbl&gt; |\n",
       "|---|---|\n",
       "| Saturday  | 8152.976 |\n",
       "| Friday    | 7448.230 |\n",
       "| Thursday  | 7405.837 |\n",
       "| Wednesday | 7559.373 |\n",
       "| Tuesday   | 8125.007 |\n",
       "| Monday    | 7780.867 |\n",
       "| Sunday    | 6933.231 |\n",
       "\n"
      ],
      "text/plain": [
       "  day_of_week avg_steps\n",
       "1 Saturday    8152.976 \n",
       "2 Friday      7448.230 \n",
       "3 Thursday    7405.837 \n",
       "4 Wednesday   7559.373 \n",
       "5 Tuesday     8125.007 \n",
       "6 Monday      7780.867 \n",
       "7 Sunday      6933.231 "
      ]
     },
     "metadata": {},
     "output_type": "display_data"
    }
   ],
   "source": [
    "# Showing the average daily steps in DESC order by day\n",
    "head(arrange(daily_activity_avg , desc(daily_activity_avg)), 7)"
   ]
  },
  {
   "cell_type": "markdown",
   "id": "74a0f129",
   "metadata": {},
   "source": [
    "### <span style=\"color:#6B8E23\"> Daily Average Calories Plot </span>"
   ]
  },
  {
   "cell_type": "code",
   "execution_count": 88,
   "id": "910a90a5",
   "metadata": {},
   "outputs": [
    {
     "name": "stderr",
     "output_type": "stream",
     "text": [
      "\u001b[1mRows: \u001b[22m\u001b[34m940\u001b[39m \u001b[1mColumns: \u001b[22m\u001b[34m15\u001b[39m\n",
      "\u001b[36m──\u001b[39m \u001b[1mColumn specification\u001b[22m \u001b[36m────────────────────────────────────────────────────────────────────────────────────────────────\u001b[39m\n",
      "\u001b[1mDelimiter:\u001b[22m \",\"\n",
      "\u001b[31mchr\u001b[39m  (1): ActivityDate\n",
      "\u001b[32mdbl\u001b[39m (14): Id, TotalSteps, TotalDistance, TrackerDistance, LoggedActivitiesDi...\n",
      "\n",
      "\u001b[36mℹ\u001b[39m Use `spec()` to retrieve the full column specification for this data.\n",
      "\u001b[36mℹ\u001b[39m Specify the column types or set `show_col_types = FALSE` to quiet this message.\n"
     ]
    },
    {
     "data": {
      "image/png": "[encoded data removed]",
      "text/plain": [
       "plot without title"
      ]
     },
     "metadata": {
      "image/png": {
       "height": 420,
       "width": 420
      }
     },
     "output_type": "display_data"
    }
   ],
   "source": [
    "daily_activity <- read_csv(\"Fitabase Data 4.12.16-5.12.16/dailyActivity_merged.csv\")\n",
    "\n",
    "# Weekday vs average calories \n",
    "daily_activity$ActivityDate <- as.Date(daily_activity$ActivityDate)\n",
    "daily_activity$Weekday <- weekdays(daily_activity$ActivityDate)\n",
    "\n",
    "\n",
    "\n",
    "# Aggregating calories\n",
    "weekday_calories <- aggregate(Calories ~ Weekday, data = daily_activity, FUN = function(x) mean(x, na.rm = TRUE))\n",
    "\n",
    "\n",
    "\n",
    "# Proper mean\n",
    "average_calories <- mean(daily_activity$Calories, na.rm = TRUE)\n",
    "\n",
    "\n",
    "\n",
    "# Reordering day_of_week in the desired order\n",
    "weekday_calories$Weekday <- factor(weekday_calories$Weekday, levels = c(\n",
    "  \"Sunday\", \"Monday\", \"Tuesday\", \"Wednesday\", \"Thursday\", \"Friday\", \"Saturday\"))\n",
    "\n",
    "\n",
    "\n",
    "# Removing decimals\n",
    "weekday_calories$Calories <- floor(weekday_calories$Calories)\n",
    "\n",
    "\n",
    "\n",
    "# plot days vs average calories with a legend\n",
    "ggplot(weekday_calories, aes(x = Weekday, y = Calories)) +\n",
    "  geom_bar(stat = \"identity\", fill = \"#FF6347\", width = 0.5) +\n",
    "  geom_text(aes(label = Calories), vjust = -0.5, color = \"black\") +\n",
    "  geom_hline(aes(yintercept = average_calories, color = \"2304\"), linetype = \"dashed\") +\n",
    "  labs(title = \"Weekday vs average calories\", x = \"\", y = \"Calories\") +\n",
    "  scale_y_continuous(breaks = seq(0, max(weekday_calories$Calories), by = 200)) +\n",
    "  theme_minimal() +\n",
    "  theme(legend.position = \"right\",\n",
    "        legend.title = element_text(),\n",
    "        legend.text = element_text(size = 9),\n",
    "        plot.title = element_text(size = 18),\n",
    "        axis.text.y = element_text(size = 9)) +\n",
    "  guides(color = guide_legend(title = \"Weekly Average:\", ncol = 1))"
   ]
  },
  {
   "cell_type": "markdown",
   "id": "928b46bb",
   "metadata": {},
   "source": [
    "* The average calories is 2304 "
   ]
  },
  {
   "cell_type": "code",
   "execution_count": 89,
   "id": "5be92662",
   "metadata": {
    "scrolled": false
   },
   "outputs": [
    {
     "data": {
      "text/html": [
       "<table class=\"dataframe\">\n",
       "<caption>A data.frame: 7 × 2</caption>\n",
       "<thead>\n",
       "\t<tr><th></th><th scope=col>Weekday</th><th scope=col>Calories</th></tr>\n",
       "\t<tr><th></th><th scope=col>&lt;fct&gt;</th><th scope=col>&lt;dbl&gt;</th></tr>\n",
       "</thead>\n",
       "<tbody>\n",
       "\t<tr><th scope=row>1</th><td>Friday   </td><td>2415</td></tr>\n",
       "\t<tr><th scope=row>2</th><td>Monday   </td><td>2383</td></tr>\n",
       "\t<tr><th scope=row>3</th><td>Sunday   </td><td>2313</td></tr>\n",
       "\t<tr><th scope=row>4</th><td>Saturday </td><td>2303</td></tr>\n",
       "\t<tr><th scope=row>5</th><td>Wednesday</td><td>2264</td></tr>\n",
       "\t<tr><th scope=row>6</th><td>Thursday </td><td>2229</td></tr>\n",
       "\t<tr><th scope=row>7</th><td>Tuesday  </td><td>1812</td></tr>\n",
       "</tbody>\n",
       "</table>\n"
      ],
      "text/latex": [
       "A data.frame: 7 × 2\n",
       "\\begin{tabular}{r|ll}\n",
       "  & Weekday & Calories\\\\\n",
       "  & <fct> & <dbl>\\\\\n",
       "\\hline\n",
       "\t1 & Friday    & 2415\\\\\n",
       "\t2 & Monday    & 2383\\\\\n",
       "\t3 & Sunday    & 2313\\\\\n",
       "\t4 & Saturday  & 2303\\\\\n",
       "\t5 & Wednesday & 2264\\\\\n",
       "\t6 & Thursday  & 2229\\\\\n",
       "\t7 & Tuesday   & 1812\\\\\n",
       "\\end{tabular}\n"
      ],
      "text/markdown": [
       "\n",
       "A data.frame: 7 × 2\n",
       "\n",
       "| <!--/--> | Weekday &lt;fct&gt; | Calories &lt;dbl&gt; |\n",
       "|---|---|---|\n",
       "| 1 | Friday    | 2415 |\n",
       "| 2 | Monday    | 2383 |\n",
       "| 3 | Sunday    | 2313 |\n",
       "| 4 | Saturday  | 2303 |\n",
       "| 5 | Wednesday | 2264 |\n",
       "| 6 | Thursday  | 2229 |\n",
       "| 7 | Tuesday   | 1812 |\n",
       "\n"
      ],
      "text/plain": [
       "  Weekday   Calories\n",
       "1 Friday    2415    \n",
       "2 Monday    2383    \n",
       "3 Sunday    2313    \n",
       "4 Saturday  2303    \n",
       "5 Wednesday 2264    \n",
       "6 Thursday  2229    \n",
       "7 Tuesday   1812    "
      ]
     },
     "metadata": {},
     "output_type": "display_data"
    }
   ],
   "source": [
    "# Showing the average calories in DESC order\n",
    "head(arrange(weekday_calories, desc(Calories)), 7)"
   ]
  },
  {
   "cell_type": "markdown",
   "id": "7f60c170",
   "metadata": {},
   "source": [
    "### <span style=\"color:#6B8E23\"> Total Steps and Activity Level vs. Calories Plot </span>"
   ]
  },
  {
   "cell_type": "code",
   "execution_count": 79,
   "id": "ddbe0c79",
   "metadata": {},
   "outputs": [
    {
     "name": "stderr",
     "output_type": "stream",
     "text": [
      "\u001b[1m\u001b[22m`geom_smooth()` using formula = 'y ~ x'\n"
     ]
    },
    {
     "data": {
      "image/png": "[encoded data removed]",
      "text/plain": [
       "plot without title"
      ]
     },
     "metadata": {
      "image/png": {
       "height": 420,
       "width": 420
      }
     },
     "output_type": "display_data"
    }
   ],
   "source": [
    "# Total_Steps vs Calories with a legend\n",
    "ggplot(data = daily_activity, aes(x = TotalSteps, y = Calories)) +\n",
    "  geom_point(aes(color = ifelse(TotalSteps <= 6000, \"Lightly Active\",\n",
    "                                ifelse(TotalSteps <= 12000, \"Fairly Active\", \"Very Active\"))), size = 3) +\n",
    "  geom_smooth(aes(color = \"Total Steps\"), method = \"loess\", se = FALSE, fill = \"purple\", alpha = 0.2, span = 0.5) +\n",
    "  labs(title = \"Total Steps and Activity Level vs. Calories\", x = \"Total Steps\", y = \"Calories\", color = \"Activity Level\") +\n",
    "  scale_color_manual(values = c(\"Lightly Active\" = \"#CD7F32\", \"Fairly Active\" = \"#C4C4C4\", \"Very Active\" = \"#FFD700\", \"Total Steps\" = \"purple\")) +\n",
    "  theme_minimal()"
   ]
  },
  {
   "cell_type": "markdown",
   "id": "553f23c2",
   "metadata": {},
   "source": [
    "### <span style=\"color:#6B8E23\"> Sleep vs Activity Plot </span>"
   ]
  },
  {
   "cell_type": "code",
   "execution_count": 80,
   "id": "28ce304e",
   "metadata": {},
   "outputs": [
    {
     "name": "stderr",
     "output_type": "stream",
     "text": [
      "\u001b[1m\u001b[22m`geom_smooth()` using method = 'loess' and formula = 'y ~ x'\n"
     ]
    },
    {
     "data": {
      "image/png": "[encoded data removed]",
      "text/plain": [
       "plot without title"
      ]
     },
     "metadata": {
      "image/png": {
       "height": 420,
       "width": 420
      }
     },
     "output_type": "display_data"
    }
   ],
   "source": [
    "# TotalMinutesAlseep vs TotalTimeInBed\n",
    "ggplot(data=daily_sleep, aes(x=TotalMinutesAsleep, y=TotalTimeInBed)) + \n",
    "  geom_point(color=\"#6B3FA0\")+ geom_smooth() + \n",
    "  labs(title=\"Total Minutes Asleep vs. Total Time in Bed\")"
   ]
  },
  {
   "cell_type": "markdown",
   "id": "bbaf54bd",
   "metadata": {},
   "source": [
    "### <span style=\"color:#6B8E23\"> Total Steps vs Total Minutes Asleep Plot </span>"
   ]
  },
  {
   "cell_type": "code",
   "execution_count": 81,
   "id": "b677df61",
   "metadata": {},
   "outputs": [
    {
     "name": "stderr",
     "output_type": "stream",
     "text": [
      "Warning message:\n",
      "\"\u001b[1m\u001b[22mUsing `size` aesthetic for lines was deprecated in ggplot2 3.4.0.\n",
      "\u001b[36mℹ\u001b[39m Please use `linewidth` instead.\"\n",
      "\u001b[1m\u001b[22m`geom_smooth()` using method = 'loess' and formula = 'y ~ x'\n"
     ]
    },
    {
     "data": {
      "image/png": "[encoded data removed]",
      "text/plain": [
       "plot without title"
      ]
     },
     "metadata": {
      "image/png": {
       "height": 420,
       "width": 420
      }
     },
     "output_type": "display_data"
    }
   ],
   "source": [
    "# Rename SleepDay column in daily_sleep to date\n",
    "daily_sleep <- daily_sleep %>%\n",
    "  rename(date = SleepDay)\n",
    "\n",
    "\n",
    "# Rename ActivityDate column in daily_activity to date\n",
    "daily_activity <- daily_activity %>%\n",
    "  rename(date = ActivityDate)\n",
    "\n",
    "\n",
    "\n",
    "# Convert date columns to the desired format MM/DD/YYYY\n",
    "daily_sleep$date <- format(as.Date(daily_sleep$date), \"%m/%d/%Y\")\n",
    "daily_activity$date <- format(as.Date(daily_activity$date), \"%m/%d/%Y\")\n",
    "\n",
    "\n",
    "\n",
    "# Merge data based on Id and date columns\n",
    "merged_data <- merge(daily_activity[, c(\"Id\", \"TotalSteps\", \"date\")], \n",
    "                     daily_sleep[, c(\"Id\", \"TotalMinutesAsleep\", \"date\")], \n",
    "                     by = c(\"Id\", \"date\"), all = TRUE)\n",
    "\n",
    "\n",
    "# Remove rows with missing values\n",
    "merged_data <- na.omit(merged_data)\n",
    "\n",
    "\n",
    "\n",
    "# Plot TotalSteps vs TotalMinutesAsleep\n",
    "ggplot(merged_data, aes(x = TotalSteps, y = TotalMinutesAsleep)) +\n",
    "  geom_point(color = \"blue\", size = 3, alpha = 0.7) +\n",
    "  geom_smooth(color = \"purple\", linetype = \"dashed\", size = 1) +\n",
    "  labs(title = \"Total Steps vs. Total Minutes Asleep\", x = \"Total Steps\", y = \"Total Minutes Asleep\") +\n",
    "  theme_minimal() +\n",
    "  theme(panel.grid = element_line(color = \"gray\", linetype = \"dashed\"))"
   ]
  },
  {
   "cell_type": "markdown",
   "id": "2865853d",
   "metadata": {},
   "source": [
    "* This doesn't look like much, but that's the point. Regardless of the amount of walking, there was no correlation to getting more sleep."
   ]
  },
  {
   "cell_type": "markdown",
   "id": "418e930f",
   "metadata": {},
   "source": [
    "* When a plot has a horizontal line through it, it shows a lack of correlation. Which is a good thing to understand, and this information is as lackluster as it is may surprise many users. One of the many examples of how our product improves the users lives. Knowledge is power, after all. "
   ]
  },
  {
   "cell_type": "markdown",
   "id": "31bf068e",
   "metadata": {},
   "source": [
    "### <span style=\"color:#6B8E23\"> Correlation of Total Steps and Calories Plot </span>"
   ]
  },
  {
   "cell_type": "code",
   "execution_count": 82,
   "id": "6f3502ad",
   "metadata": {},
   "outputs": [
    {
     "name": "stderr",
     "output_type": "stream",
     "text": [
      "\u001b[1m\u001b[22m`geom_smooth()` using formula = 'y ~ x'\n"
     ]
    },
    {
     "data": {
      "image/png": "[encoded data removed]",
      "text/plain": [
       "plot without title"
      ]
     },
     "metadata": {
      "image/png": {
       "height": 420,
       "width": 420
      }
     },
     "output_type": "display_data"
    }
   ],
   "source": [
    "# Group the data by 'Id'\n",
    "id_grp <- daily_activity %>% group_by(Id)\n",
    "\n",
    "\n",
    "\n",
    "# Calculate the average amount of steps and sort in descending order\n",
    "id_avg_step <- id_grp %>% summarize(avg_steps = mean(TotalSteps)) %>% arrange(desc(avg_steps))\n",
    "\n",
    "\n",
    "\n",
    "# Convert the result to a dataframe\n",
    "id_avg_step <- as.data.frame(id_avg_step)\n",
    "\n",
    "\n",
    "\n",
    "# Create a column 'activity_level' based on average step categories\n",
    "id_avg_step$activity_level <- cut(id_avg_step$avg_steps,\n",
    "                                  breaks = c(-Inf, 4000, 8000, 12000, Inf),\n",
    "                                  labels = c(\"sedentary\", \"lightly_active\", \"fairly_active\", \"very_active\"),\n",
    "                                  right = FALSE)\n",
    "\n",
    "\n",
    "\n",
    "# Create a vector with activity levels for each 'Id' in the original dataframe\n",
    "id_activity_level <- id_avg_step$activity_level[match(daily_activity$Id, id_avg_step$Id)]\n",
    "\n",
    "\n",
    "\n",
    "# Add 'activity_level' column to the original dataframe\n",
    "daily_activity$activity_level <- id_activity_level\n",
    "\n",
    "\n",
    "\n",
    "# Correlation between calories steps and calories\n",
    "ggplot(daily_activity, aes(x = TotalSteps, y = Calories, color = activity_level)) +\n",
    "  geom_point(shape = 16, size = 3) +\n",
    "  geom_smooth(method = \"loess\", se = FALSE, color = \"purple\", fill = \"purple\", alpha = 0.2, span = 0.5) +\n",
    "  labs(title = \"Correlation of Total Steps and Calories\", x = \"Total Steps\", y = \"Calories\", color = \"Activity Level\") +\n",
    "  theme_minimal() +\n",
    "  scale_color_manual(values = c(\"sedentary\" = \"#5A5A5A\", \"lightly_active\" = \"#CD7F32\", \"fairly_active\" = \"#C4C4C4\", \"very_active\" = \"#FFD700\")) +\n",
    "  theme(legend.position = \"bottom\")"
   ]
  },
  {
   "cell_type": "markdown",
   "id": "fe6b66b3",
   "metadata": {},
   "source": [
    "* The reason 36019 Total Steps is labeled as \"lightly_active\" is because the user only walked such \"very active\" amounts on one day; the rest dragged them down. My plot legend takes into account the average activity level, not individual records."
   ]
  },
  {
   "cell_type": "markdown",
   "id": "3b2b8756",
   "metadata": {},
   "source": [
    "### <span style=\"color:#6B8E23\"> Percentage of Activity in Minutes Plot </span>"
   ]
  },
  {
   "cell_type": "markdown",
   "id": "ee1a5bf0",
   "metadata": {},
   "source": [
    "* Very active minutes :  1.74% \n",
    "* Fairly active minutes :  1.11% \n",
    "* Lightly active minutes :  15.82% \n",
    "* Sedentary minutes :  81.33% "
   ]
  },
  {
   "cell_type": "code",
   "execution_count": 83,
   "id": "43393870",
   "metadata": {},
   "outputs": [
    {
     "data": {
      "image/png": "[encoded data removed]",
      "text/plain": [
       "Plot with title \"Percentage of activity in minutes\""
      ]
     },
     "metadata": {
      "image/png": {
       "height": 420,
       "width": 420
      }
     },
     "output_type": "display_data"
    }
   ],
   "source": [
    "# Percent of activity in minutes\n",
    "very_active_mins <- sum(daily_activity$VeryActiveMinutes)\n",
    "fairly_active_mins <- sum(daily_activity$FairlyActiveMinutes)\n",
    "lightly_active_mins <- sum(daily_activity$LightlyActiveMinutes)\n",
    "sedentary_mins <- sum(daily_activity$SedentaryMinutes)\n",
    "\n",
    "slices <- c(very_active_mins, fairly_active_mins, lightly_active_mins, sedentary_mins)\n",
    "labels <- c('Very active minutes: 1.74%', 'Fairly active minutes: 1.11%', 'Lightly active minutes: 15.82%', 'Sedentary minutes: 81.33%')\n",
    "\n",
    "colors <- c(\"#FFD700\", \"#C4C4C4\", \"#CD7F32\", \"#5A5A5A\")\n",
    "\n",
    "pie(slices, labels = labels,\n",
    "    main = 'Percentage of activity in minutes',\n",
    "    col = colors,\n",
    "    border = \"white\", font.main = 2,cex.main = 1.5)"
   ]
  },
  {
   "cell_type": "markdown",
   "id": "f13ddf22",
   "metadata": {},
   "source": [
    "## <span style=\"color:#6B8E23\"> Act - Step 6: Conclusion and Next Steps </span>"
   ]
  },
  {
   "cell_type": "markdown",
   "id": "36e72ab5",
   "metadata": {},
   "source": [
    "## <span style=\"color:#6B8E23\"> Conclusion </span>"
   ]
  },
  {
   "cell_type": "markdown",
   "id": "aa61b10e",
   "metadata": {},
   "source": [
    "After analyzing Bellabeat's data, I have found some insights that would help influence Bellabeat's marketing strategy:\n",
    "\n",
    "\n",
    "* The average daily sleep is roughly 7 hours, which is on par for adults per the [Mayo Clinic Sleep Recommedations](https://www.mayoclinic.org/healthy-lifestyle/adult-health/expert-answers/how-many-hours-of-sleep-are-enough/faq-20057898)\n",
    "\n",
    "\n",
    "* The average total steps per day are 7608, which is less than the recommended 10,000 per the [Mayo Clinic Recommended Steps per Day](https://www.mayoclinic.org/healthy-lifestyle/fitness/in-depth/10000-steps/art-20317391)\n",
    "\n",
    "* Calories remain consistent outside of Tuesdays, which is surprising; Tuesdays also include the second highest amount of steps and the least amount of sleep\n",
    "\n",
    "* The more active a person is, the more calories are consumed\n",
    "\n",
    "* Total steps have zero correlation with the amount of sleep users got\n",
    "\n",
    "* There is a correlation between total steps and calories. The more steps, the more calories\n",
    "\n",
    "* Users spent the vast majority of their time sedentary\n",
    "\n",
    "\n",
    "* The average weight and average BMI are slightly greater than the ideal weight and BMI per the [Mayo Clinic Recommended BMI](https://newsnetwork.mayoclinic.org/discussion/mayo-clinic-q-and-a-bmi-is-not-the-only-indicator-of-your-overall-health/) although I lack information on gender, age and height\n",
    "\n",
    "\n",
    "* The average heart rate is 77, which is absolutely normal according to the [Mayo Clinic](https://www.mayoclinic.org/healthy-lifestyle/fitness/expert-answers/heart-rate/faq-20057979)\n",
    "\n",
    "\n",
    "Overall, I find the data useful but also inconclusive; two months does not equate to enough findings, and lacking personal information such as age, gender, and height is paramount to concrete results."
   ]
  },
  {
   "cell_type": "markdown",
   "id": "7c65564b",
   "metadata": {},
   "source": [
    "## <span style=\"color:#6B8E23\"> Next Steps </span>"
   ]
  },
  {
   "cell_type": "markdown",
   "id": "f90e7f12",
   "metadata": {},
   "source": [
    "### <span style=\"color:#6B8E23\"> A multi-functional device: </span>"
   ]
  },
  {
   "cell_type": "markdown",
   "id": "a931c637",
   "metadata": {},
   "source": [
    "The wearable device IVY is their best product and should be marketed, which in turn will boost subscription sales from the app. Bellabeat should advertise that their products are meant to be worn every day and in all scenarios, from sports and exercising to relaxing and sleeping. Displaying more value on the product as they are meant to accompany them wherever they go for any situation. Which in turn will boost their knowledge about their bodies and lifestyles and help them track information to improve overall fitness and health. This will encourage women from all demographics, features, and backgrounds to use Bellabeat's products, which are meant for any woman who cares about her overall health and well-being.\n"
   ]
  },
  {
   "cell_type": "markdown",
   "id": "5189d3f4",
   "metadata": {},
   "source": [
    "### <span style=\"color:#6B8E23\"> Benefits, motivators and prompts: </span>"
   ]
  },
  {
   "cell_type": "markdown",
   "id": "07a581a9",
   "metadata": {},
   "source": [
    "Bellabeat can integrate functions such as rewards or incentives and remind users to hit certain goals. These goals can help users achieve better health, deeper sleep, cognitive health, and overall well-being with virtual accomplishment via medals or prizes, such as discounts or offers from affiliated companies that promote the same ambitions and goals as Bellabeat, strengthening their brand and deepening their ties in modern life."
   ]
  },
  {
   "cell_type": "markdown",
   "id": "6b89b862",
   "metadata": {},
   "source": [
    "Lastly, allow users to set reminders automatically or user-based to give support and encouragement to their goals and aspirations. Recommendations of products of varying types to help them hit their goals from affiliated companies who promote the same ambitions and goals as Bellabeat, strengthening their brand and deepening their ties in modern life."
   ]
  }
 ],
 "metadata": {
  "kernelspec": {
   "display_name": "R",
   "language": "R",
   "name": "ir"
  },
  "language_info": {
   "codemirror_mode": "r",
   "file_extension": ".r",
   "mimetype": "text/x-r-source",
   "name": "R",
   "pygments_lexer": "r",
   "version": "4.3.1"
  }
 },
 "nbformat": 4,
 "nbformat_minor": 5
}
